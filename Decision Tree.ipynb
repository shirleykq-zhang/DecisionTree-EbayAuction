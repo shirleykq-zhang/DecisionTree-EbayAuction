{
 "cells": [
  {
   "cell_type": "code",
   "execution_count": 61,
   "id": "d05bc8b9",
   "metadata": {},
   "outputs": [],
   "source": [
    "import pandas as pd\n",
    "import numpy as np\n",
    "import matplotlib.pyplot as plt\n",
    "import graphviz\n",
    "%matplotlib inline"
   ]
  },
  {
   "cell_type": "code",
   "execution_count": 2,
   "id": "19cf90ea",
   "metadata": {},
   "outputs": [],
   "source": [
    "from sklearn.tree import DecisionTreeClassifier, export_graphviz\n",
    "from sklearn.model_selection import train_test_split, cross_val_score, GridSearchCV\n",
    "from sklearn.metrics import accuracy_score"
   ]
  },
  {
   "cell_type": "code",
   "execution_count": 3,
   "id": "81137f76",
   "metadata": {},
   "outputs": [
    {
     "name": "stdout",
     "output_type": "stream",
     "text": [
      "no display found. Using non-interactive Agg backend\n"
     ]
    }
   ],
   "source": [
    "from dmba import classificationSummary"
   ]
  },
  {
   "cell_type": "code",
   "execution_count": 4,
   "id": "10435bc8",
   "metadata": {},
   "outputs": [],
   "source": [
    "xlsx = pd.ExcelFile(\"UniversalBank.xlsx\")\n",
    "bank_df = pd.read_excel(xlsx, 'Data')\n"
   ]
  },
  {
   "cell_type": "code",
   "execution_count": 5,
   "id": "e428d97d",
   "metadata": {},
   "outputs": [
    {
     "data": {
      "text/html": [
       "<div>\n",
       "<style scoped>\n",
       "    .dataframe tbody tr th:only-of-type {\n",
       "        vertical-align: middle;\n",
       "    }\n",
       "\n",
       "    .dataframe tbody tr th {\n",
       "        vertical-align: top;\n",
       "    }\n",
       "\n",
       "    .dataframe thead th {\n",
       "        text-align: right;\n",
       "    }\n",
       "</style>\n",
       "<table border=\"1\" class=\"dataframe\">\n",
       "  <thead>\n",
       "    <tr style=\"text-align: right;\">\n",
       "      <th></th>\n",
       "      <th>ID</th>\n",
       "      <th>Age</th>\n",
       "      <th>Experience</th>\n",
       "      <th>Income</th>\n",
       "      <th>ZIPCode</th>\n",
       "      <th>Family</th>\n",
       "      <th>CCAvg</th>\n",
       "      <th>Mortgage</th>\n",
       "      <th>PersonalLoan</th>\n",
       "      <th>SecuritiesAccount</th>\n",
       "      <th>CDAccount</th>\n",
       "      <th>Online</th>\n",
       "      <th>CreditCard</th>\n",
       "    </tr>\n",
       "  </thead>\n",
       "  <tbody>\n",
       "    <tr>\n",
       "      <th>0</th>\n",
       "      <td>1</td>\n",
       "      <td>25</td>\n",
       "      <td>1</td>\n",
       "      <td>49</td>\n",
       "      <td>91107</td>\n",
       "      <td>4</td>\n",
       "      <td>1.6</td>\n",
       "      <td>0</td>\n",
       "      <td>0</td>\n",
       "      <td>1</td>\n",
       "      <td>0</td>\n",
       "      <td>0</td>\n",
       "      <td>0</td>\n",
       "    </tr>\n",
       "    <tr>\n",
       "      <th>1</th>\n",
       "      <td>2</td>\n",
       "      <td>45</td>\n",
       "      <td>19</td>\n",
       "      <td>34</td>\n",
       "      <td>90089</td>\n",
       "      <td>3</td>\n",
       "      <td>1.5</td>\n",
       "      <td>0</td>\n",
       "      <td>0</td>\n",
       "      <td>1</td>\n",
       "      <td>0</td>\n",
       "      <td>0</td>\n",
       "      <td>0</td>\n",
       "    </tr>\n",
       "    <tr>\n",
       "      <th>2</th>\n",
       "      <td>3</td>\n",
       "      <td>39</td>\n",
       "      <td>15</td>\n",
       "      <td>11</td>\n",
       "      <td>94720</td>\n",
       "      <td>1</td>\n",
       "      <td>1.0</td>\n",
       "      <td>0</td>\n",
       "      <td>0</td>\n",
       "      <td>0</td>\n",
       "      <td>0</td>\n",
       "      <td>0</td>\n",
       "      <td>0</td>\n",
       "    </tr>\n",
       "    <tr>\n",
       "      <th>3</th>\n",
       "      <td>4</td>\n",
       "      <td>35</td>\n",
       "      <td>9</td>\n",
       "      <td>100</td>\n",
       "      <td>94112</td>\n",
       "      <td>1</td>\n",
       "      <td>2.7</td>\n",
       "      <td>0</td>\n",
       "      <td>0</td>\n",
       "      <td>0</td>\n",
       "      <td>0</td>\n",
       "      <td>0</td>\n",
       "      <td>0</td>\n",
       "    </tr>\n",
       "    <tr>\n",
       "      <th>4</th>\n",
       "      <td>5</td>\n",
       "      <td>35</td>\n",
       "      <td>8</td>\n",
       "      <td>45</td>\n",
       "      <td>91330</td>\n",
       "      <td>4</td>\n",
       "      <td>1.0</td>\n",
       "      <td>0</td>\n",
       "      <td>0</td>\n",
       "      <td>0</td>\n",
       "      <td>0</td>\n",
       "      <td>0</td>\n",
       "      <td>1</td>\n",
       "    </tr>\n",
       "  </tbody>\n",
       "</table>\n",
       "</div>"
      ],
      "text/plain": [
       "   ID  Age  Experience  Income  ZIPCode  Family  CCAvg  Mortgage  \\\n",
       "0   1   25           1      49    91107       4    1.6         0   \n",
       "1   2   45          19      34    90089       3    1.5         0   \n",
       "2   3   39          15      11    94720       1    1.0         0   \n",
       "3   4   35           9     100    94112       1    2.7         0   \n",
       "4   5   35           8      45    91330       4    1.0         0   \n",
       "\n",
       "   PersonalLoan  SecuritiesAccount  CDAccount  Online  CreditCard  \n",
       "0             0                  1          0       0           0  \n",
       "1             0                  1          0       0           0  \n",
       "2             0                  0          0       0           0  \n",
       "3             0                  0          0       0           0  \n",
       "4             0                  0          0       0           1  "
      ]
     },
     "execution_count": 5,
     "metadata": {},
     "output_type": "execute_result"
    }
   ],
   "source": [
    "bank_df.columns = bank_df.columns.str.replace(' ','')\n",
    "bank_df.head()"
   ]
  },
  {
   "cell_type": "code",
   "execution_count": 6,
   "id": "e91527ee",
   "metadata": {},
   "outputs": [
    {
     "data": {
      "text/plain": [
       "0    4520\n",
       "1     480\n",
       "Name: PersonalLoan, dtype: int64"
      ]
     },
     "execution_count": 6,
     "metadata": {},
     "output_type": "execute_result"
    }
   ],
   "source": [
    "bank_df.PersonalLoan.value_counts()\n"
   ]
  },
  {
   "cell_type": "code",
   "execution_count": 62,
   "id": "1af01286",
   "metadata": {},
   "outputs": [
    {
     "data": {
      "image/png": "[encoded data removed]",
      "text/plain": [
       "<Figure size 432x288 with 1 Axes>"
      ]
     },
     "metadata": {
      "needs_background": "light"
     },
     "output_type": "display_data"
    }
   ],
   "source": [
    "bank_df.PersonalLoan.value_counts().plot(kind='bar')\n",
    "plt.xlabel('Took Personal Loan')\n",
    "plt.ylabel(\"Counts\")\n",
    "plt.show()"
   ]
  },
  {
   "cell_type": "code",
   "execution_count": 8,
   "id": "09ba3e85",
   "metadata": {},
   "outputs": [],
   "source": [
    "bank_df.drop(columns =['ID','ZIPCode'], inplace = True)\n",
    "#inplace - drop the column without copyting the entire dataframe"
   ]
  },
  {
   "cell_type": "code",
   "execution_count": 9,
   "id": "ce42bf5e",
   "metadata": {},
   "outputs": [],
   "source": [
    "X = bank_df.drop(columns='PersonalLoan')"
   ]
  },
  {
   "cell_type": "code",
   "execution_count": 10,
   "id": "6b26baf1",
   "metadata": {},
   "outputs": [],
   "source": [
    "y = bank_df['PersonalLoan']"
   ]
  },
  {
   "cell_type": "code",
   "execution_count": 11,
   "id": "8988c8ab",
   "metadata": {},
   "outputs": [],
   "source": [
    "X_train, X_test, y_train, y_test = train_test_split(X, y, test_size=0.4, random_state=1)"
   ]
  },
  {
   "cell_type": "code",
   "execution_count": 12,
   "id": "c0f5963b",
   "metadata": {},
   "outputs": [
    {
     "data": {
      "text/plain": [
       "DecisionTreeClassifier(random_state=1)"
      ]
     },
     "execution_count": 12,
     "metadata": {},
     "output_type": "execute_result"
    }
   ],
   "source": [
    "fullClassTree = DecisionTreeClassifier(random_state=1)\n",
    "fullClassTree.fit(X_train, y_train)"
   ]
  },
  {
   "cell_type": "code",
   "execution_count": 13,
   "id": "b2eb266e",
   "metadata": {},
   "outputs": [
    {
     "data": {
      "text/plain": [
       "0.953"
      ]
     },
     "execution_count": 13,
     "metadata": {},
     "output_type": "execute_result"
    }
   ],
   "source": [
    "fullClassTree.score(X_test, y_test)"
   ]
  },
  {
   "cell_type": "code",
   "execution_count": 14,
   "id": "f6dbc58c",
   "metadata": {},
   "outputs": [
    {
     "data": {
      "text/plain": [
       "0.953"
      ]
     },
     "execution_count": 14,
     "metadata": {},
     "output_type": "execute_result"
    }
   ],
   "source": [
    "y_predicted = fullClassTree.predict(X_test)\n",
    "accuracy_score(y_test, y_predicted)"
   ]
  },
  {
   "cell_type": "code",
   "execution_count": 15,
   "id": "a1fef656",
   "metadata": {},
   "outputs": [
    {
     "name": "stdout",
     "output_type": "stream",
     "text": [
      "Confusion Matrix (Accuracy 1.0000)\n",
      "\n",
      "       Prediction\n",
      "Actual    0    1\n",
      "     0 2713    0\n",
      "     1    0  287\n"
     ]
    }
   ],
   "source": [
    "classificationSummary(y_train, fullClassTree.predict(X_train))"
   ]
  },
  {
   "cell_type": "code",
   "execution_count": 16,
   "id": "b933cedf",
   "metadata": {},
   "outputs": [
    {
     "data": {
      "text/plain": [
       "22"
      ]
     },
     "execution_count": 16,
     "metadata": {},
     "output_type": "execute_result"
    }
   ],
   "source": [
    "fullClassTree.tree_.max_depth"
   ]
  },
  {
   "cell_type": "code",
   "execution_count": 17,
   "id": "01eeee0f",
   "metadata": {},
   "outputs": [
    {
     "data": {
      "text/plain": [
       "265"
      ]
     },
     "execution_count": 17,
     "metadata": {},
     "output_type": "execute_result"
    }
   ],
   "source": [
    "fullClassTree.tree_.node_count"
   ]
  },
  {
   "cell_type": "code",
   "execution_count": 18,
   "id": "0679159b",
   "metadata": {},
   "outputs": [
    {
     "name": "stdout",
     "output_type": "stream",
     "text": [
      "Confusion Matrix (Accuracy 0.9530)\n",
      "\n",
      "       Prediction\n",
      "Actual    0    1\n",
      "     0 1771   36\n",
      "     1   58  135\n"
     ]
    }
   ],
   "source": [
    "classificationSummary(y_test, fullClassTree.predict(X_test))"
   ]
  },
  {
   "cell_type": "code",
   "execution_count": 19,
   "id": "4b29c661",
   "metadata": {},
   "outputs": [
    {
     "data": {
      "text/plain": [
       "{'ccp_alpha': 0.0,\n",
       " 'class_weight': None,\n",
       " 'criterion': 'gini',\n",
       " 'max_depth': None,\n",
       " 'max_features': None,\n",
       " 'max_leaf_nodes': None,\n",
       " 'min_impurity_decrease': 0.0,\n",
       " 'min_samples_leaf': 1,\n",
       " 'min_samples_split': 2,\n",
       " 'min_weight_fraction_leaf': 0.0,\n",
       " 'random_state': 1,\n",
       " 'splitter': 'best'}"
      ]
     },
     "execution_count": 19,
     "metadata": {},
     "output_type": "execute_result"
    }
   ],
   "source": [
    "fullClassTree.get_params()"
   ]
  },
  {
   "cell_type": "code",
   "execution_count": 20,
   "id": "f5c6caaf",
   "metadata": {},
   "outputs": [],
   "source": [
    "export_graphviz(fullClassTree, out_file = 'fullClassTree.dot',\n",
    "               feature_names = X_train.columns)"
   ]
  },
  {
   "cell_type": "code",
   "execution_count": 21,
   "id": "1313d160",
   "metadata": {},
   "outputs": [
    {
     "name": "stdout",
     "output_type": "stream",
     "text": [
      "Accuracy scores of each fold:  ['0.948', '0.933', '0.943', '0.942', '0.947']\n"
     ]
    }
   ],
   "source": [
    "treeClassifier = DecisionTreeClassifier(random_state=1)\n",
    "scores = cross_val_score(treeClassifier, X_train, y_train, cv=5)\n",
    "print('Accuracy scores of each fold: ',[f'{acc:.3f}' for acc in scores] )"
   ]
  },
  {
   "cell_type": "code",
   "execution_count": 22,
   "id": "14308bfe",
   "metadata": {},
   "outputs": [],
   "source": [
    "smallClassTree = DecisionTreeClassifier(max_depth=20, min_samples_split=20, min_impurity_decrease =0.01, random_state=1)"
   ]
  },
  {
   "cell_type": "code",
   "execution_count": 23,
   "id": "626a5c34",
   "metadata": {},
   "outputs": [
    {
     "data": {
      "text/plain": [
       "DecisionTreeClassifier(max_depth=20, min_impurity_decrease=0.01,\n",
       "                       min_samples_split=20, random_state=1)"
      ]
     },
     "execution_count": 23,
     "metadata": {},
     "output_type": "execute_result"
    }
   ],
   "source": [
    "smallClassTree.fit(X_train, y_train)"
   ]
  },
  {
   "cell_type": "code",
   "execution_count": 24,
   "id": "5c82536b",
   "metadata": {},
   "outputs": [
    {
     "data": {
      "text/plain": [
       "{'ccp_alpha': 0.0,\n",
       " 'class_weight': None,\n",
       " 'criterion': 'gini',\n",
       " 'max_depth': 20,\n",
       " 'max_features': None,\n",
       " 'max_leaf_nodes': None,\n",
       " 'min_impurity_decrease': 0.01,\n",
       " 'min_samples_leaf': 1,\n",
       " 'min_samples_split': 20,\n",
       " 'min_weight_fraction_leaf': 0.0,\n",
       " 'random_state': 1,\n",
       " 'splitter': 'best'}"
      ]
     },
     "execution_count": 24,
     "metadata": {},
     "output_type": "execute_result"
    }
   ],
   "source": [
    "smallClassTree.get_params()"
   ]
  },
  {
   "cell_type": "code",
   "execution_count": 25,
   "id": "1a562d79",
   "metadata": {},
   "outputs": [
    {
     "data": {
      "text/plain": [
       "2"
      ]
     },
     "execution_count": 25,
     "metadata": {},
     "output_type": "execute_result"
    }
   ],
   "source": [
    "smallClassTree.tree_.max_depth"
   ]
  },
  {
   "cell_type": "code",
   "execution_count": 26,
   "id": "7e2c2312",
   "metadata": {},
   "outputs": [
    {
     "data": {
      "text/plain": [
       "5"
      ]
     },
     "execution_count": 26,
     "metadata": {},
     "output_type": "execute_result"
    }
   ],
   "source": [
    "smallClassTree.tree_.node_count"
   ]
  },
  {
   "cell_type": "code",
   "execution_count": 27,
   "id": "0e8eb204",
   "metadata": {},
   "outputs": [],
   "source": [
    "export_graphviz(smallClassTree, out_file = 'smallClassTree.dot',\n",
    "               feature_names = X_train.columns)"
   ]
  },
  {
   "cell_type": "code",
   "execution_count": 28,
   "id": "f2bb29a3",
   "metadata": {},
   "outputs": [
    {
     "name": "stdout",
     "output_type": "stream",
     "text": [
      "Confusion Matrix (Accuracy 0.9463)\n",
      "\n",
      "       Prediction\n",
      "Actual    0    1\n",
      "     0 2698   15\n",
      "     1  146  141\n"
     ]
    }
   ],
   "source": [
    "classificationSummary(y_train, smallClassTree.predict(X_train))"
   ]
  },
  {
   "cell_type": "code",
   "execution_count": 29,
   "id": "17f1a788",
   "metadata": {},
   "outputs": [
    {
     "name": "stdout",
     "output_type": "stream",
     "text": [
      "Confusion Matrix (Accuracy 0.9445)\n",
      "\n",
      "       Prediction\n",
      "Actual    0    1\n",
      "     0 1799    8\n",
      "     1  103   90\n"
     ]
    }
   ],
   "source": [
    "classificationSummary(y_test, smallClassTree.predict(X_test))"
   ]
  },
  {
   "cell_type": "markdown",
   "id": "c969ef32",
   "metadata": {},
   "source": [
    "## Model Tuning"
   ]
  },
  {
   "cell_type": "code",
   "execution_count": 30,
   "id": "a5900889",
   "metadata": {},
   "outputs": [],
   "source": [
    "param_grid= {\n",
    "    'max_depth':[10,20,30,40],\n",
    "    'min_samples_split':[20, 40, 60, 80, 100],\n",
    "    'min_impurity_decrease':[0, 0.0005, 0.001, 0.0005, 0.01]\n",
    "}"
   ]
  },
  {
   "cell_type": "code",
   "execution_count": 31,
   "id": "5d0ab8b9",
   "metadata": {},
   "outputs": [],
   "source": [
    "gridSearch = GridSearchCV(DecisionTreeClassifier(random_state=1),\n",
    "                         param_grid, cv=5, n_jobs=-1)\n",
    "#n_jobs = -1, let it find out by itself"
   ]
  },
  {
   "cell_type": "code",
   "execution_count": 32,
   "id": "db38e0e5",
   "metadata": {},
   "outputs": [
    {
     "data": {
      "text/plain": [
       "GridSearchCV(cv=5, estimator=DecisionTreeClassifier(random_state=1), n_jobs=-1,\n",
       "             param_grid={'max_depth': [10, 20, 30, 40],\n",
       "                         'min_impurity_decrease': [0, 0.0005, 0.001, 0.0005,\n",
       "                                                   0.01],\n",
       "                         'min_samples_split': [20, 40, 60, 80, 100]})"
      ]
     },
     "execution_count": 32,
     "metadata": {},
     "output_type": "execute_result"
    }
   ],
   "source": [
    "gridSearch.fit(X_train, y_train)"
   ]
  },
  {
   "cell_type": "code",
   "execution_count": 33,
   "id": "b5e36c68",
   "metadata": {},
   "outputs": [
    {
     "name": "stdout",
     "output_type": "stream",
     "text": [
      "Initial Score:  0.9523333333333334\n",
      "Inital parameters:  {'max_depth': 10, 'min_impurity_decrease': 0.001, 'min_samples_split': 20}\n"
     ]
    }
   ],
   "source": [
    "print('Initial Score: ', gridSearch.best_score_)\n",
    "print('Inital parameters: ', gridSearch.best_params_)"
   ]
  },
  {
   "cell_type": "code",
   "execution_count": 34,
   "id": "323a73b3",
   "metadata": {},
   "outputs": [],
   "source": [
    "param_grid= {\n",
    "    'max_depth':list(range(2,16)),\n",
    "    'min_samples_split':list(range(10,30)),\n",
    "    'min_impurity_decrease':[0, 0.0009, 0.001, 0.0011]\n",
    "}"
   ]
  },
  {
   "cell_type": "code",
   "execution_count": 35,
   "id": "64d496b4",
   "metadata": {},
   "outputs": [],
   "source": [
    "gridSearch = GridSearchCV(DecisionTreeClassifier(random_state=1),\n",
    "                         param_grid, cv=5, n_jobs=-1)"
   ]
  },
  {
   "cell_type": "code",
   "execution_count": 36,
   "id": "1e2277ff",
   "metadata": {},
   "outputs": [
    {
     "data": {
      "text/plain": [
       "GridSearchCV(cv=5, estimator=DecisionTreeClassifier(random_state=1), n_jobs=-1,\n",
       "             param_grid={'max_depth': [2, 3, 4, 5, 6, 7, 8, 9, 10, 11, 12, 13,\n",
       "                                       14, 15],\n",
       "                         'min_impurity_decrease': [0, 0.0009, 0.001, 0.0011],\n",
       "                         'min_samples_split': [10, 11, 12, 13, 14, 15, 16, 17,\n",
       "                                               18, 19, 20, 21, 22, 23, 24, 25,\n",
       "                                               26, 27, 28, 29]})"
      ]
     },
     "execution_count": 36,
     "metadata": {},
     "output_type": "execute_result"
    }
   ],
   "source": [
    "gridSearch.fit(X_train, y_train)\n"
   ]
  },
  {
   "cell_type": "code",
   "execution_count": 37,
   "id": "23d0abed",
   "metadata": {},
   "outputs": [
    {
     "name": "stdout",
     "output_type": "stream",
     "text": [
      "Improved Score:  0.9553333333333333\n",
      "Improved parameters:  {'max_depth': 7, 'min_impurity_decrease': 0.001, 'min_samples_split': 12}\n"
     ]
    }
   ],
   "source": [
    "print('Improved Score: ', gridSearch.best_score_)\n",
    "print('Improved parameters: ', gridSearch.best_params_)"
   ]
  },
  {
   "cell_type": "code",
   "execution_count": 38,
   "id": "909a89e0",
   "metadata": {},
   "outputs": [],
   "source": [
    "bestClassTree = gridSearch.best_estimator_"
   ]
  },
  {
   "cell_type": "markdown",
   "id": "15aab4e5",
   "metadata": {},
   "source": [
    "## Adding Weights"
   ]
  },
  {
   "cell_type": "code",
   "execution_count": 51,
   "id": "6915aba9",
   "metadata": {},
   "outputs": [],
   "source": [
    "from sklearn.utils.class_weight import compute_sample_weight"
   ]
  },
  {
   "cell_type": "code",
   "execution_count": 52,
   "id": "68a86024",
   "metadata": {},
   "outputs": [],
   "source": [
    "sample_weight = compute_sample_weight(class_weight='balanced', y=y_train)"
   ]
  },
  {
   "cell_type": "code",
   "execution_count": 53,
   "id": "48c41855",
   "metadata": {},
   "outputs": [],
   "source": [
    "param_grid= {\n",
    "    'max_depth':list(range(2,16)),\n",
    "    'min_samples_split':list(range(10,30)),\n",
    "    'min_impurity_decrease':[0, 0.0009, 0.001, 0.0011]\n",
    "}"
   ]
  },
  {
   "cell_type": "code",
   "execution_count": 54,
   "id": "9ba2b42d",
   "metadata": {},
   "outputs": [],
   "source": [
    "gridSearch = GridSearchCV(DecisionTreeClassifier(random_state=1),\n",
    "                         param_grid, cv=5, n_jobs=-1)"
   ]
  },
  {
   "cell_type": "code",
   "execution_count": 55,
   "id": "823fe406",
   "metadata": {},
   "outputs": [
    {
     "data": {
      "text/plain": [
       "GridSearchCV(cv=5, estimator=DecisionTreeClassifier(random_state=1), n_jobs=-1,\n",
       "             param_grid={'max_depth': [2, 3, 4, 5, 6, 7, 8, 9, 10, 11, 12, 13,\n",
       "                                       14, 15],\n",
       "                         'min_impurity_decrease': [0, 0.0009, 0.001, 0.0011],\n",
       "                         'min_samples_split': [10, 11, 12, 13, 14, 15, 16, 17,\n",
       "                                               18, 19, 20, 21, 22, 23, 24, 25,\n",
       "                                               26, 27, 28, 29]})"
      ]
     },
     "execution_count": 55,
     "metadata": {},
     "output_type": "execute_result"
    }
   ],
   "source": [
    "gridSearch.fit(X_train, y_train, sample_weight = sample_weight)"
   ]
  },
  {
   "cell_type": "code",
   "execution_count": 56,
   "id": "d980df92",
   "metadata": {},
   "outputs": [
    {
     "name": "stdout",
     "output_type": "stream",
     "text": [
      "Improved Reweighted Score:  0.9176666666666666\n",
      "Improved Reweighted parameters:  {'max_depth': 15, 'min_impurity_decrease': 0, 'min_samples_split': 10}\n"
     ]
    }
   ],
   "source": [
    "print('Improved Reweighted Score: ', gridSearch.best_score_)\n",
    "print('Improved Reweighted parameters: ', gridSearch.best_params_)"
   ]
  },
  {
   "cell_type": "code",
   "execution_count": 57,
   "id": "75d383c8",
   "metadata": {},
   "outputs": [],
   "source": [
    "bestClassTree = gridSearch.best_estimator_"
   ]
  },
  {
   "cell_type": "code",
   "execution_count": 58,
   "id": "9ecff387",
   "metadata": {},
   "outputs": [
    {
     "name": "stdout",
     "output_type": "stream",
     "text": [
      "Confusion Matrix (Accuracy 0.9487)\n",
      "\n",
      "       Prediction\n",
      "Actual    0    1\n",
      "     0 2559  154\n",
      "     1    0  287\n"
     ]
    }
   ],
   "source": [
    "classificationSummary(y_train, bestClassTree.predict(X_train))"
   ]
  },
  {
   "cell_type": "code",
   "execution_count": 59,
   "id": "34054aa8",
   "metadata": {},
   "outputs": [
    {
     "name": "stdout",
     "output_type": "stream",
     "text": [
      "Confusion Matrix (Accuracy 0.9155)\n",
      "\n",
      "       Prediction\n",
      "Actual    0    1\n",
      "     0 1679  128\n",
      "     1   41  152\n"
     ]
    }
   ],
   "source": [
    "classificationSummary(y_test, bestClassTree.predict(X_test))"
   ]
  },
  {
   "cell_type": "code",
   "execution_count": null,
   "id": "67263e05",
   "metadata": {},
   "outputs": [],
   "source": []
  },
  {
   "cell_type": "code",
   "execution_count": null,
   "id": "2fa3ab61",
   "metadata": {},
   "outputs": [],
   "source": []
  }
 ],
 "metadata": {
  "kernelspec": {
   "display_name": "Python 3 (ipykernel)",
   "language": "python",
   "name": "python3"
  },
  "language_info": {
   "codemirror_mode": {
    "name": "ipython",
    "version": 3
   },
   "file_extension": ".py",
   "mimetype": "text/x-python",
   "name": "python",
   "nbconvert_exporter": "python",
   "pygments_lexer": "ipython3",
   "version": "3.8.12"
  }
 },
 "nbformat": 4,
 "nbformat_minor": 5
}
