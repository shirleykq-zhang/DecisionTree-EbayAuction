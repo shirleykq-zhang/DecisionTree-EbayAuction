{
  "nbformat": 4,
  "nbformat_minor": 0,
  "metadata": {
    "colab": {
      "name": "[SS]GP_Assignment_2_v2.ipynb",
      "provenance": [],
      "collapsed_sections": []
    },
    "kernelspec": {
      "display_name": "Python 3",
      "language": "python",
      "name": "python3"
    },
    "language_info": {
      "codemirror_mode": {
        "name": "ipython",
        "version": 3
      },
      "file_extension": ".py",
      "mimetype": "text/x-python",
      "name": "python",
      "nbconvert_exporter": "python",
      "pygments_lexer": "ipython3",
      "version": "3.8.5"
    }
  },
  "cells": [
    {
      "cell_type": "markdown",
      "metadata": {
        "id": "Pap-7V5UYs6R"
      },
      "source": [
        "# GROUP ASSIGNMENT 2\n",
        "# RSM 8413"
      ]
    },
    {
      "cell_type": "code",
      "metadata": {
        "colab": {
          "base_uri": "https://localhost:8080/"
        },
        "id": "H-L2ljGrYNd-",
        "outputId": "abe043e6-7ebc-414a-b8a5-c0af4e331978"
      },
      "source": [
        "!pip install dmba"
      ],
      "execution_count": null,
      "outputs": [
        {
          "output_type": "stream",
          "name": "stdout",
          "text": [
            "Requirement already satisfied: dmba in /usr/local/lib/python3.7/dist-packages (0.0.18)\n"
          ]
        }
      ]
    },
    {
      "cell_type": "code",
      "metadata": {
        "id": "0AYZ_EV0Ys6V"
      },
      "source": [
        "# Import required libraries\n",
        "import pandas as pd\n",
        "import numpy as np\n",
        "import matplotlib.pyplot as plt\n",
        "import seaborn as sns\n",
        "import graphviz\n",
        "\n",
        "from sklearn.tree import DecisionTreeClassifier, export_graphviz\n",
        "from sklearn.model_selection import train_test_split, cross_val_score,  GridSearchCV\n",
        "from sklearn.metrics import accuracy_score\n",
        "from sklearn.utils.class_weight import compute_sample_weight\n",
        "\n",
        "from dmba import classificationSummary\n",
        "from numpy import array\n",
        "from numpy import argmax\n",
        "from tensorflow.keras.utils import to_categorical"
      ],
      "execution_count": null,
      "outputs": []
    },
    {
      "cell_type": "code",
      "metadata": {
        "id": "NaTtCrw4Ys6X"
      },
      "source": [
        "# Read data from excel file into a dataframe\n",
        "\n",
        "xlsx =pd.ExcelFile('/content/ebayAuctions.xlsx')\n",
        "df= pd.read_excel(xlsx, 'eBay auctions')"
      ],
      "execution_count": null,
      "outputs": []
    },
    {
      "cell_type": "markdown",
      "metadata": {
        "id": "6do1BpRoYs6r"
      },
      "source": [
        "# DATA PREPROCESSING AND EXPLORATION"
      ]
    },
    {
      "cell_type": "code",
      "metadata": {
        "colab": {
          "base_uri": "https://localhost:8080/"
        },
        "id": "JmI1sndMYs6r",
        "outputId": "8849cfda-a111-4289-ccac-9df7b62eed14"
      },
      "source": [
        "df.info()\n",
        "df1 = df"
      ],
      "execution_count": null,
      "outputs": [
        {
          "output_type": "stream",
          "name": "stdout",
          "text": [
            "<class 'pandas.core.frame.DataFrame'>\n",
            "RangeIndex: 1972 entries, 0 to 1971\n",
            "Data columns (total 8 columns):\n",
            " #   Column        Non-Null Count  Dtype  \n",
            "---  ------        --------------  -----  \n",
            " 0   Category      1972 non-null   object \n",
            " 1   Currency      1972 non-null   object \n",
            " 2   sellerRating  1972 non-null   int64  \n",
            " 3   Duration      1972 non-null   int64  \n",
            " 4   endDay        1972 non-null   object \n",
            " 5   ClosePrice    1972 non-null   float64\n",
            " 6   OpenPrice     1972 non-null   float64\n",
            " 7   Competitive?  1972 non-null   int64  \n",
            "dtypes: float64(2), int64(3), object(3)\n",
            "memory usage: 123.4+ KB\n"
          ]
        }
      ]
    },
    {
      "cell_type": "code",
      "metadata": {
        "id": "xpmfk87HYs6v"
      },
      "source": [
        "# Remove space from column names\n",
        "\n",
        "df.columns = df.columns.str.replace(' ', '')"
      ],
      "execution_count": null,
      "outputs": []
    },
    {
      "cell_type": "code",
      "metadata": {
        "colab": {
          "base_uri": "https://localhost:8080/",
          "height": 204
        },
        "id": "ZJAlj0s9Ys6w",
        "outputId": "c1963f6c-1bb0-4538-b1a6-d2baad3b13a1"
      },
      "source": [
        "df.head()"
      ],
      "execution_count": null,
      "outputs": [
        {
          "output_type": "execute_result",
          "data": {
            "text/html": [
              "<div>\n",
              "<style scoped>\n",
              "    .dataframe tbody tr th:only-of-type {\n",
              "        vertical-align: middle;\n",
              "    }\n",
              "\n",
              "    .dataframe tbody tr th {\n",
              "        vertical-align: top;\n",
              "    }\n",
              "\n",
              "    .dataframe thead th {\n",
              "        text-align: right;\n",
              "    }\n",
              "</style>\n",
              "<table border=\"1\" class=\"dataframe\">\n",
              "  <thead>\n",
              "    <tr style=\"text-align: right;\">\n",
              "      <th></th>\n",
              "      <th>Category</th>\n",
              "      <th>Currency</th>\n",
              "      <th>sellerRating</th>\n",
              "      <th>Duration</th>\n",
              "      <th>endDay</th>\n",
              "      <th>ClosePrice</th>\n",
              "      <th>OpenPrice</th>\n",
              "      <th>Competitive?</th>\n",
              "    </tr>\n",
              "  </thead>\n",
              "  <tbody>\n",
              "    <tr>\n",
              "      <th>0</th>\n",
              "      <td>Music/Movie/Game</td>\n",
              "      <td>US</td>\n",
              "      <td>3249</td>\n",
              "      <td>5</td>\n",
              "      <td>Mon</td>\n",
              "      <td>0.01</td>\n",
              "      <td>0.01</td>\n",
              "      <td>0</td>\n",
              "    </tr>\n",
              "    <tr>\n",
              "      <th>1</th>\n",
              "      <td>Music/Movie/Game</td>\n",
              "      <td>US</td>\n",
              "      <td>3249</td>\n",
              "      <td>5</td>\n",
              "      <td>Mon</td>\n",
              "      <td>0.01</td>\n",
              "      <td>0.01</td>\n",
              "      <td>0</td>\n",
              "    </tr>\n",
              "    <tr>\n",
              "      <th>2</th>\n",
              "      <td>Music/Movie/Game</td>\n",
              "      <td>US</td>\n",
              "      <td>3249</td>\n",
              "      <td>5</td>\n",
              "      <td>Mon</td>\n",
              "      <td>0.01</td>\n",
              "      <td>0.01</td>\n",
              "      <td>0</td>\n",
              "    </tr>\n",
              "    <tr>\n",
              "      <th>3</th>\n",
              "      <td>Music/Movie/Game</td>\n",
              "      <td>US</td>\n",
              "      <td>3249</td>\n",
              "      <td>5</td>\n",
              "      <td>Mon</td>\n",
              "      <td>0.01</td>\n",
              "      <td>0.01</td>\n",
              "      <td>0</td>\n",
              "    </tr>\n",
              "    <tr>\n",
              "      <th>4</th>\n",
              "      <td>Music/Movie/Game</td>\n",
              "      <td>US</td>\n",
              "      <td>3249</td>\n",
              "      <td>5</td>\n",
              "      <td>Mon</td>\n",
              "      <td>0.01</td>\n",
              "      <td>0.01</td>\n",
              "      <td>0</td>\n",
              "    </tr>\n",
              "  </tbody>\n",
              "</table>\n",
              "</div>"
            ],
            "text/plain": [
              "           Category Currency  sellerRating  ...  ClosePrice OpenPrice  Competitive?\n",
              "0  Music/Movie/Game       US          3249  ...        0.01      0.01             0\n",
              "1  Music/Movie/Game       US          3249  ...        0.01      0.01             0\n",
              "2  Music/Movie/Game       US          3249  ...        0.01      0.01             0\n",
              "3  Music/Movie/Game       US          3249  ...        0.01      0.01             0\n",
              "4  Music/Movie/Game       US          3249  ...        0.01      0.01             0\n",
              "\n",
              "[5 rows x 8 columns]"
            ]
          },
          "metadata": {},
          "execution_count": 54
        }
      ]
    },
    {
      "cell_type": "code",
      "metadata": {
        "id": "WiB04e8rYs6x"
      },
      "source": [
        "df = df.rename(columns={'Competitive?': 'Competitive'})\n"
      ],
      "execution_count": null,
      "outputs": []
    },
    {
      "cell_type": "code",
      "metadata": {
        "colab": {
          "base_uri": "https://localhost:8080/"
        },
        "id": "tA11faMhYs6z",
        "outputId": "85462925-01d8-4d51-ac1c-4520b2300922"
      },
      "source": [
        "df.isnull().sum()"
      ],
      "execution_count": null,
      "outputs": [
        {
          "output_type": "execute_result",
          "data": {
            "text/plain": [
              "Category        0\n",
              "Currency        0\n",
              "sellerRating    0\n",
              "Duration        0\n",
              "endDay          0\n",
              "ClosePrice      0\n",
              "OpenPrice       0\n",
              "Competitive     0\n",
              "dtype: int64"
            ]
          },
          "metadata": {},
          "execution_count": 56
        }
      ]
    },
    {
      "cell_type": "code",
      "metadata": {
        "colab": {
          "base_uri": "https://localhost:8080/"
        },
        "id": "TqrE6YijYs60",
        "outputId": "de4c4b5c-b3cf-4ebd-e25f-04cdae73e090"
      },
      "source": [
        "df['Category'].unique()"
      ],
      "execution_count": null,
      "outputs": [
        {
          "output_type": "execute_result",
          "data": {
            "text/plain": [
              "array(['Music/Movie/Game', 'Automotive', 'SportingGoods', 'Home/Garden',\n",
              "       'Books', 'Collectibles', 'Business/Industrial', 'Toys/Hobbies',\n",
              "       'Electronics', 'Computer', 'EverythingElse',\n",
              "       'Clothing/Accessories', 'Coins/Stamps', 'Antique/Art/Craft',\n",
              "       'Jewelry', 'Pottery/Glass', 'Health/Beauty', 'Photography'],\n",
              "      dtype=object)"
            ]
          },
          "metadata": {},
          "execution_count": 57
        }
      ]
    },
    {
      "cell_type": "code",
      "metadata": {
        "id": "4q-i0nnlYs61",
        "colab": {
          "base_uri": "https://localhost:8080/",
          "height": 513
        },
        "outputId": "37df1256-1bcb-466f-c2d2-fcf73a627d8b"
      },
      "source": [
        "plt.figure(figsize=(10,7)) \n",
        "ax = sns.countplot(data = df, x = 'Category')\n",
        "ax.set_xticklabels(ax.get_xticklabels(), rotation=45, ha=\"right\")\n",
        "plt.tight_layout()\n",
        "sns.color_palette(\"husl\", 8)\n",
        "plt.show()"
      ],
      "execution_count": null,
      "outputs": [
        {
          "output_type": "display_data",
          "data": {
            "image/png": "[encoded data removed]",
            "text/plain": [
              "<Figure size 720x504 with 1 Axes>"
            ]
          },
          "metadata": {
            "needs_background": "light"
          }
        }
      ]
    },
    {
      "cell_type": "code",
      "metadata": {
        "colab": {
          "base_uri": "https://localhost:8080/"
        },
        "id": "fwAmfHDkYs61",
        "outputId": "b811a174-d7b7-453b-e354-0a17b1afc4ce"
      },
      "source": [
        "df['Currency'].unique()"
      ],
      "execution_count": null,
      "outputs": [
        {
          "output_type": "execute_result",
          "data": {
            "text/plain": [
              "array(['US', 'GBP', 'EUR'], dtype=object)"
            ]
          },
          "metadata": {},
          "execution_count": 59
        }
      ]
    },
    {
      "cell_type": "code",
      "metadata": {
        "id": "HWF4Qv2cYs62",
        "colab": {
          "base_uri": "https://localhost:8080/",
          "height": 441
        },
        "outputId": "b8289ffd-96ce-4d04-d9d0-e77250d18568"
      },
      "source": [
        "plt.figure(figsize=(4,6)) \n",
        "ax = sns.countplot(data = df, x = 'Currency')\n",
        "ax.set_xticklabels(ax.get_xticklabels(), rotation= 0, ha=\"right\")\n",
        "plt.tight_layout()\n",
        "sns.color_palette(\"husl\", 8)\n",
        "plt.show()"
      ],
      "execution_count": null,
      "outputs": [
        {
          "output_type": "display_data",
          "data": {
            "image/png": "[encoded data removed]",
            "text/plain": [
              "<Figure size 288x432 with 1 Axes>"
            ]
          },
          "metadata": {
            "needs_background": "light"
          }
        }
      ]
    },
    {
      "cell_type": "code",
      "metadata": {
        "colab": {
          "base_uri": "https://localhost:8080/"
        },
        "id": "QZggRS_QYs62",
        "outputId": "cf0eccc7-8582-4f2e-b183-bae06616358d"
      },
      "source": [
        "df['endDay'].unique()"
      ],
      "execution_count": null,
      "outputs": [
        {
          "output_type": "execute_result",
          "data": {
            "text/plain": [
              "array(['Mon', 'Tue', 'Fri', 'Thu', 'Sat', 'Sun', 'Wed'], dtype=object)"
            ]
          },
          "metadata": {},
          "execution_count": 61
        }
      ]
    },
    {
      "cell_type": "code",
      "metadata": {
        "id": "pfJTlfHrYs63",
        "colab": {
          "base_uri": "https://localhost:8080/",
          "height": 441
        },
        "outputId": "eb05aa11-a2ee-4066-eb7c-0ced2437e155"
      },
      "source": [
        "plt.figure(figsize=(8,6)) \n",
        "ax = sns.countplot(data = df, x = 'endDay')\n",
        "ax.set_xticklabels(ax.get_xticklabels(), rotation= 90, ha=\"right\")\n",
        "plt.tight_layout()\n",
        "sns.color_palette(\"husl\", 8)\n",
        "plt.show()"
      ],
      "execution_count": null,
      "outputs": [
        {
          "output_type": "display_data",
          "data": {
            "image/png": "[encoded data removed]",
            "text/plain": [
              "<Figure size 576x432 with 1 Axes>"
            ]
          },
          "metadata": {
            "needs_background": "light"
          }
        }
      ]
    },
    {
      "cell_type": "code",
      "metadata": {
        "colab": {
          "base_uri": "https://localhost:8080/"
        },
        "id": "w82dVNIiYs64",
        "outputId": "0f3fc7b7-80b2-4317-9522-8f5b4a5bd364"
      },
      "source": [
        "df['Duration'].unique()"
      ],
      "execution_count": null,
      "outputs": [
        {
          "output_type": "execute_result",
          "data": {
            "text/plain": [
              "array([ 5,  7,  1,  3, 10])"
            ]
          },
          "metadata": {},
          "execution_count": 63
        }
      ]
    },
    {
      "cell_type": "code",
      "metadata": {
        "id": "eFTB5jpJYs64",
        "colab": {
          "base_uri": "https://localhost:8080/",
          "height": 441
        },
        "outputId": "49e238ac-ca8a-4a3c-917e-d6313dd5a059"
      },
      "source": [
        "plt.figure(figsize=(6,6)) \n",
        "ax = sns.countplot(data = df, x = 'Duration')\n",
        "ax.set_xticklabels(ax.get_xticklabels(), rotation= 0, ha=\"right\")\n",
        "plt.tight_layout()\n",
        "sns.color_palette(\"husl\", 8)\n",
        "plt.show()"
      ],
      "execution_count": null,
      "outputs": [
        {
          "output_type": "display_data",
          "data": {
            "image/png": "[encoded data removed]",
            "text/plain": [
              "<Figure size 432x432 with 1 Axes>"
            ]
          },
          "metadata": {
            "needs_background": "light"
          }
        }
      ]
    },
    {
      "cell_type": "code",
      "metadata": {
        "id": "CPnV4m2zYs65",
        "colab": {
          "base_uri": "https://localhost:8080/",
          "height": 441
        },
        "outputId": "53a83ed0-abdb-403c-8036-e2f66888c172"
      },
      "source": [
        "plt.figure(figsize=(3,6)) \n",
        "ax = sns.countplot(data = df, x = 'Competitive')\n",
        "ax.set_xticklabels(ax.get_xticklabels(), rotation= 45, ha=\"right\")\n",
        "plt.tight_layout()\n",
        "sns.color_palette(\"husl\", 8)\n",
        "plt.show()"
      ],
      "execution_count": null,
      "outputs": [
        {
          "output_type": "display_data",
          "data": {
            "image/png": "[encoded data removed]",
            "text/plain": [
              "<Figure size 216x432 with 1 Axes>"
            ]
          },
          "metadata": {
            "needs_background": "light"
          }
        }
      ]
    },
    {
      "cell_type": "code",
      "metadata": {
        "colab": {
          "base_uri": "https://localhost:8080/"
        },
        "id": "UTBkOc_TYs65",
        "outputId": "e81e1b43-55d5-45a8-b522-09b773c1ffeb"
      },
      "source": [
        "# Ensure the validity of data\n",
        "ambigious_data = df[(df['Competitive'] == 1) & (df['ClosePrice'] == df['OpenPrice'])]\n",
        "ambigious_data.count()\n",
        "ambigious_data.shape\n"
      ],
      "execution_count": null,
      "outputs": [
        {
          "output_type": "execute_result",
          "data": {
            "text/plain": [
              "(38, 8)"
            ]
          },
          "metadata": {},
          "execution_count": 66
        }
      ]
    },
    {
      "cell_type": "code",
      "metadata": {
        "id": "YocoDpgfYs65"
      },
      "source": [
        " # Remove rows with ambigious data \n",
        "df = df.drop(df[(df['Competitive'] == 1) & (df['ClosePrice'] == df['OpenPrice'])].index)"
      ],
      "execution_count": 90,
      "outputs": []
    },
    {
      "cell_type": "code",
      "metadata": {
        "id": "3ZzPhzteYs66"
      },
      "source": [
        "#Creating dummy variables for the categorical predictors.\n",
        "column_list =['Category', 'Currency', 'endDay', 'Duration']\n",
        "def hot_encode(df, var):\n",
        "    h_enc = pd.get_dummies(df[var],prefix = var+'_')\n",
        "    h_enc = h_enc.iloc[: , :-1]\n",
        "    df_temp = df.drop(var,axis=1)\n",
        "    df1 = pd.concat([df_temp,h_enc],axis=1)\n",
        "    return df1\n",
        "\n",
        "df3 = df.copy()\n",
        "for i in column_list:\n",
        "    df3 = hot_encode(df3,i)"
      ],
      "execution_count": null,
      "outputs": []
    },
    {
      "cell_type": "code",
      "metadata": {
        "colab": {
          "base_uri": "https://localhost:8080/",
          "height": 439
        },
        "id": "_Q81ZGY2Ys66",
        "outputId": "4d66a723-2128-4cab-e1ac-0b5fd1f10ec9"
      },
      "source": [
        "# Final encoded data\n",
        "df = df3.copy()\n",
        "df"
      ],
      "execution_count": null,
      "outputs": [
        {
          "output_type": "execute_result",
          "data": {
            "text/html": [
              "<div>\n",
              "<style scoped>\n",
              "    .dataframe tbody tr th:only-of-type {\n",
              "        vertical-align: middle;\n",
              "    }\n",
              "\n",
              "    .dataframe tbody tr th {\n",
              "        vertical-align: top;\n",
              "    }\n",
              "\n",
              "    .dataframe thead th {\n",
              "        text-align: right;\n",
              "    }\n",
              "</style>\n",
              "<table border=\"1\" class=\"dataframe\">\n",
              "  <thead>\n",
              "    <tr style=\"text-align: right;\">\n",
              "      <th></th>\n",
              "      <th>sellerRating</th>\n",
              "      <th>ClosePrice</th>\n",
              "      <th>OpenPrice</th>\n",
              "      <th>Competitive</th>\n",
              "      <th>Category__Antique/Art/Craft</th>\n",
              "      <th>Category__Automotive</th>\n",
              "      <th>Category__Books</th>\n",
              "      <th>Category__Business/Industrial</th>\n",
              "      <th>Category__Clothing/Accessories</th>\n",
              "      <th>Category__Coins/Stamps</th>\n",
              "      <th>Category__Collectibles</th>\n",
              "      <th>Category__Computer</th>\n",
              "      <th>Category__Electronics</th>\n",
              "      <th>Category__EverythingElse</th>\n",
              "      <th>Category__Health/Beauty</th>\n",
              "      <th>Category__Home/Garden</th>\n",
              "      <th>Category__Jewelry</th>\n",
              "      <th>Category__Music/Movie/Game</th>\n",
              "      <th>Category__Photography</th>\n",
              "      <th>Category__Pottery/Glass</th>\n",
              "      <th>Category__SportingGoods</th>\n",
              "      <th>Currency__EUR</th>\n",
              "      <th>Currency__GBP</th>\n",
              "      <th>endDay__Fri</th>\n",
              "      <th>endDay__Mon</th>\n",
              "      <th>endDay__Sat</th>\n",
              "      <th>endDay__Sun</th>\n",
              "      <th>endDay__Thu</th>\n",
              "      <th>endDay__Tue</th>\n",
              "      <th>Duration__1</th>\n",
              "      <th>Duration__3</th>\n",
              "      <th>Duration__5</th>\n",
              "      <th>Duration__7</th>\n",
              "    </tr>\n",
              "  </thead>\n",
              "  <tbody>\n",
              "    <tr>\n",
              "      <th>0</th>\n",
              "      <td>3249</td>\n",
              "      <td>0.01</td>\n",
              "      <td>0.01</td>\n",
              "      <td>0</td>\n",
              "      <td>0</td>\n",
              "      <td>0</td>\n",
              "      <td>0</td>\n",
              "      <td>0</td>\n",
              "      <td>0</td>\n",
              "      <td>0</td>\n",
              "      <td>0</td>\n",
              "      <td>0</td>\n",
              "      <td>0</td>\n",
              "      <td>0</td>\n",
              "      <td>0</td>\n",
              "      <td>0</td>\n",
              "      <td>0</td>\n",
              "      <td>1</td>\n",
              "      <td>0</td>\n",
              "      <td>0</td>\n",
              "      <td>0</td>\n",
              "      <td>0</td>\n",
              "      <td>0</td>\n",
              "      <td>0</td>\n",
              "      <td>1</td>\n",
              "      <td>0</td>\n",
              "      <td>0</td>\n",
              "      <td>0</td>\n",
              "      <td>0</td>\n",
              "      <td>0</td>\n",
              "      <td>0</td>\n",
              "      <td>1</td>\n",
              "      <td>0</td>\n",
              "    </tr>\n",
              "    <tr>\n",
              "      <th>1</th>\n",
              "      <td>3249</td>\n",
              "      <td>0.01</td>\n",
              "      <td>0.01</td>\n",
              "      <td>0</td>\n",
              "      <td>0</td>\n",
              "      <td>0</td>\n",
              "      <td>0</td>\n",
              "      <td>0</td>\n",
              "      <td>0</td>\n",
              "      <td>0</td>\n",
              "      <td>0</td>\n",
              "      <td>0</td>\n",
              "      <td>0</td>\n",
              "      <td>0</td>\n",
              "      <td>0</td>\n",
              "      <td>0</td>\n",
              "      <td>0</td>\n",
              "      <td>1</td>\n",
              "      <td>0</td>\n",
              "      <td>0</td>\n",
              "      <td>0</td>\n",
              "      <td>0</td>\n",
              "      <td>0</td>\n",
              "      <td>0</td>\n",
              "      <td>1</td>\n",
              "      <td>0</td>\n",
              "      <td>0</td>\n",
              "      <td>0</td>\n",
              "      <td>0</td>\n",
              "      <td>0</td>\n",
              "      <td>0</td>\n",
              "      <td>1</td>\n",
              "      <td>0</td>\n",
              "    </tr>\n",
              "    <tr>\n",
              "      <th>2</th>\n",
              "      <td>3249</td>\n",
              "      <td>0.01</td>\n",
              "      <td>0.01</td>\n",
              "      <td>0</td>\n",
              "      <td>0</td>\n",
              "      <td>0</td>\n",
              "      <td>0</td>\n",
              "      <td>0</td>\n",
              "      <td>0</td>\n",
              "      <td>0</td>\n",
              "      <td>0</td>\n",
              "      <td>0</td>\n",
              "      <td>0</td>\n",
              "      <td>0</td>\n",
              "      <td>0</td>\n",
              "      <td>0</td>\n",
              "      <td>0</td>\n",
              "      <td>1</td>\n",
              "      <td>0</td>\n",
              "      <td>0</td>\n",
              "      <td>0</td>\n",
              "      <td>0</td>\n",
              "      <td>0</td>\n",
              "      <td>0</td>\n",
              "      <td>1</td>\n",
              "      <td>0</td>\n",
              "      <td>0</td>\n",
              "      <td>0</td>\n",
              "      <td>0</td>\n",
              "      <td>0</td>\n",
              "      <td>0</td>\n",
              "      <td>1</td>\n",
              "      <td>0</td>\n",
              "    </tr>\n",
              "    <tr>\n",
              "      <th>3</th>\n",
              "      <td>3249</td>\n",
              "      <td>0.01</td>\n",
              "      <td>0.01</td>\n",
              "      <td>0</td>\n",
              "      <td>0</td>\n",
              "      <td>0</td>\n",
              "      <td>0</td>\n",
              "      <td>0</td>\n",
              "      <td>0</td>\n",
              "      <td>0</td>\n",
              "      <td>0</td>\n",
              "      <td>0</td>\n",
              "      <td>0</td>\n",
              "      <td>0</td>\n",
              "      <td>0</td>\n",
              "      <td>0</td>\n",
              "      <td>0</td>\n",
              "      <td>1</td>\n",
              "      <td>0</td>\n",
              "      <td>0</td>\n",
              "      <td>0</td>\n",
              "      <td>0</td>\n",
              "      <td>0</td>\n",
              "      <td>0</td>\n",
              "      <td>1</td>\n",
              "      <td>0</td>\n",
              "      <td>0</td>\n",
              "      <td>0</td>\n",
              "      <td>0</td>\n",
              "      <td>0</td>\n",
              "      <td>0</td>\n",
              "      <td>1</td>\n",
              "      <td>0</td>\n",
              "    </tr>\n",
              "    <tr>\n",
              "      <th>4</th>\n",
              "      <td>3249</td>\n",
              "      <td>0.01</td>\n",
              "      <td>0.01</td>\n",
              "      <td>0</td>\n",
              "      <td>0</td>\n",
              "      <td>0</td>\n",
              "      <td>0</td>\n",
              "      <td>0</td>\n",
              "      <td>0</td>\n",
              "      <td>0</td>\n",
              "      <td>0</td>\n",
              "      <td>0</td>\n",
              "      <td>0</td>\n",
              "      <td>0</td>\n",
              "      <td>0</td>\n",
              "      <td>0</td>\n",
              "      <td>0</td>\n",
              "      <td>1</td>\n",
              "      <td>0</td>\n",
              "      <td>0</td>\n",
              "      <td>0</td>\n",
              "      <td>0</td>\n",
              "      <td>0</td>\n",
              "      <td>0</td>\n",
              "      <td>1</td>\n",
              "      <td>0</td>\n",
              "      <td>0</td>\n",
              "      <td>0</td>\n",
              "      <td>0</td>\n",
              "      <td>0</td>\n",
              "      <td>0</td>\n",
              "      <td>1</td>\n",
              "      <td>0</td>\n",
              "    </tr>\n",
              "    <tr>\n",
              "      <th>...</th>\n",
              "      <td>...</td>\n",
              "      <td>...</td>\n",
              "      <td>...</td>\n",
              "      <td>...</td>\n",
              "      <td>...</td>\n",
              "      <td>...</td>\n",
              "      <td>...</td>\n",
              "      <td>...</td>\n",
              "      <td>...</td>\n",
              "      <td>...</td>\n",
              "      <td>...</td>\n",
              "      <td>...</td>\n",
              "      <td>...</td>\n",
              "      <td>...</td>\n",
              "      <td>...</td>\n",
              "      <td>...</td>\n",
              "      <td>...</td>\n",
              "      <td>...</td>\n",
              "      <td>...</td>\n",
              "      <td>...</td>\n",
              "      <td>...</td>\n",
              "      <td>...</td>\n",
              "      <td>...</td>\n",
              "      <td>...</td>\n",
              "      <td>...</td>\n",
              "      <td>...</td>\n",
              "      <td>...</td>\n",
              "      <td>...</td>\n",
              "      <td>...</td>\n",
              "      <td>...</td>\n",
              "      <td>...</td>\n",
              "      <td>...</td>\n",
              "      <td>...</td>\n",
              "    </tr>\n",
              "    <tr>\n",
              "      <th>1967</th>\n",
              "      <td>2992</td>\n",
              "      <td>359.95</td>\n",
              "      <td>359.95</td>\n",
              "      <td>0</td>\n",
              "      <td>0</td>\n",
              "      <td>1</td>\n",
              "      <td>0</td>\n",
              "      <td>0</td>\n",
              "      <td>0</td>\n",
              "      <td>0</td>\n",
              "      <td>0</td>\n",
              "      <td>0</td>\n",
              "      <td>0</td>\n",
              "      <td>0</td>\n",
              "      <td>0</td>\n",
              "      <td>0</td>\n",
              "      <td>0</td>\n",
              "      <td>0</td>\n",
              "      <td>0</td>\n",
              "      <td>0</td>\n",
              "      <td>0</td>\n",
              "      <td>0</td>\n",
              "      <td>0</td>\n",
              "      <td>0</td>\n",
              "      <td>0</td>\n",
              "      <td>0</td>\n",
              "      <td>1</td>\n",
              "      <td>0</td>\n",
              "      <td>0</td>\n",
              "      <td>0</td>\n",
              "      <td>0</td>\n",
              "      <td>1</td>\n",
              "      <td>0</td>\n",
              "    </tr>\n",
              "    <tr>\n",
              "      <th>1968</th>\n",
              "      <td>21</td>\n",
              "      <td>610.00</td>\n",
              "      <td>300.00</td>\n",
              "      <td>1</td>\n",
              "      <td>0</td>\n",
              "      <td>1</td>\n",
              "      <td>0</td>\n",
              "      <td>0</td>\n",
              "      <td>0</td>\n",
              "      <td>0</td>\n",
              "      <td>0</td>\n",
              "      <td>0</td>\n",
              "      <td>0</td>\n",
              "      <td>0</td>\n",
              "      <td>0</td>\n",
              "      <td>0</td>\n",
              "      <td>0</td>\n",
              "      <td>0</td>\n",
              "      <td>0</td>\n",
              "      <td>0</td>\n",
              "      <td>0</td>\n",
              "      <td>0</td>\n",
              "      <td>0</td>\n",
              "      <td>0</td>\n",
              "      <td>0</td>\n",
              "      <td>1</td>\n",
              "      <td>0</td>\n",
              "      <td>0</td>\n",
              "      <td>0</td>\n",
              "      <td>0</td>\n",
              "      <td>0</td>\n",
              "      <td>1</td>\n",
              "      <td>0</td>\n",
              "    </tr>\n",
              "    <tr>\n",
              "      <th>1969</th>\n",
              "      <td>1400</td>\n",
              "      <td>549.00</td>\n",
              "      <td>549.00</td>\n",
              "      <td>0</td>\n",
              "      <td>0</td>\n",
              "      <td>1</td>\n",
              "      <td>0</td>\n",
              "      <td>0</td>\n",
              "      <td>0</td>\n",
              "      <td>0</td>\n",
              "      <td>0</td>\n",
              "      <td>0</td>\n",
              "      <td>0</td>\n",
              "      <td>0</td>\n",
              "      <td>0</td>\n",
              "      <td>0</td>\n",
              "      <td>0</td>\n",
              "      <td>0</td>\n",
              "      <td>0</td>\n",
              "      <td>0</td>\n",
              "      <td>0</td>\n",
              "      <td>0</td>\n",
              "      <td>0</td>\n",
              "      <td>0</td>\n",
              "      <td>1</td>\n",
              "      <td>0</td>\n",
              "      <td>0</td>\n",
              "      <td>0</td>\n",
              "      <td>0</td>\n",
              "      <td>0</td>\n",
              "      <td>0</td>\n",
              "      <td>1</td>\n",
              "      <td>0</td>\n",
              "    </tr>\n",
              "    <tr>\n",
              "      <th>1970</th>\n",
              "      <td>57</td>\n",
              "      <td>820.00</td>\n",
              "      <td>650.00</td>\n",
              "      <td>1</td>\n",
              "      <td>0</td>\n",
              "      <td>1</td>\n",
              "      <td>0</td>\n",
              "      <td>0</td>\n",
              "      <td>0</td>\n",
              "      <td>0</td>\n",
              "      <td>0</td>\n",
              "      <td>0</td>\n",
              "      <td>0</td>\n",
              "      <td>0</td>\n",
              "      <td>0</td>\n",
              "      <td>0</td>\n",
              "      <td>0</td>\n",
              "      <td>0</td>\n",
              "      <td>0</td>\n",
              "      <td>0</td>\n",
              "      <td>0</td>\n",
              "      <td>0</td>\n",
              "      <td>0</td>\n",
              "      <td>1</td>\n",
              "      <td>0</td>\n",
              "      <td>0</td>\n",
              "      <td>0</td>\n",
              "      <td>0</td>\n",
              "      <td>0</td>\n",
              "      <td>0</td>\n",
              "      <td>0</td>\n",
              "      <td>0</td>\n",
              "      <td>1</td>\n",
              "    </tr>\n",
              "    <tr>\n",
              "      <th>1971</th>\n",
              "      <td>145</td>\n",
              "      <td>999.00</td>\n",
              "      <td>999.00</td>\n",
              "      <td>0</td>\n",
              "      <td>0</td>\n",
              "      <td>1</td>\n",
              "      <td>0</td>\n",
              "      <td>0</td>\n",
              "      <td>0</td>\n",
              "      <td>0</td>\n",
              "      <td>0</td>\n",
              "      <td>0</td>\n",
              "      <td>0</td>\n",
              "      <td>0</td>\n",
              "      <td>0</td>\n",
              "      <td>0</td>\n",
              "      <td>0</td>\n",
              "      <td>0</td>\n",
              "      <td>0</td>\n",
              "      <td>0</td>\n",
              "      <td>0</td>\n",
              "      <td>0</td>\n",
              "      <td>0</td>\n",
              "      <td>0</td>\n",
              "      <td>0</td>\n",
              "      <td>1</td>\n",
              "      <td>0</td>\n",
              "      <td>0</td>\n",
              "      <td>0</td>\n",
              "      <td>0</td>\n",
              "      <td>0</td>\n",
              "      <td>0</td>\n",
              "      <td>1</td>\n",
              "    </tr>\n",
              "  </tbody>\n",
              "</table>\n",
              "<p>1934 rows × 33 columns</p>\n",
              "</div>"
            ],
            "text/plain": [
              "      sellerRating  ClosePrice  ...  Duration__5  Duration__7\n",
              "0             3249        0.01  ...            1            0\n",
              "1             3249        0.01  ...            1            0\n",
              "2             3249        0.01  ...            1            0\n",
              "3             3249        0.01  ...            1            0\n",
              "4             3249        0.01  ...            1            0\n",
              "...            ...         ...  ...          ...          ...\n",
              "1967          2992      359.95  ...            1            0\n",
              "1968            21      610.00  ...            1            0\n",
              "1969          1400      549.00  ...            1            0\n",
              "1970            57      820.00  ...            0            1\n",
              "1971           145      999.00  ...            0            1\n",
              "\n",
              "[1934 rows x 33 columns]"
            ]
          },
          "metadata": {},
          "execution_count": 69
        }
      ]
    },
    {
      "cell_type": "markdown",
      "metadata": {
        "id": "9aF18V7nYs66"
      },
      "source": [
        "# Classification"
      ]
    },
    {
      "cell_type": "code",
      "metadata": {
        "id": "Twmrc0DeYs67"
      },
      "source": [
        "#Split the data into training and validation datasets using a 60%:40% ratio\n",
        "\n",
        "X = df.drop(columns = ['Competitive'])\n",
        "y = df['Competitive']\n",
        "X_train, X_test, y_train, y_test = train_test_split(X, y, test_size = 0.4, random_state=1)"
      ],
      "execution_count": null,
      "outputs": []
    },
    {
      "cell_type": "markdown",
      "metadata": {
        "id": "NopKPvm5Ys67"
      },
      "source": [
        "Initial Tree"
      ]
    },
    {
      "cell_type": "code",
      "metadata": {
        "colab": {
          "base_uri": "https://localhost:8080/"
        },
        "id": "zLuGEXALYs67",
        "outputId": "be777870-d3d0-4b0c-ac9f-04f981536f13"
      },
      "source": [
        "param_grid = {\n",
        "    'min_samples_leaf': [50],\n",
        "    'max_depth': [5,10,13,25,27],\n",
        "    'min_samples_split' :list(range(10,120)),\n",
        "    'min_impurity_decrease' : [0,0.0009, 0.001, 0.0011]\n",
        "}\n",
        "\n",
        "# Cross Validation DT\n",
        "gridSearch = GridSearchCV(DecisionTreeClassifier(criterion='gini', random_state=1), param_grid, cv=5, n_jobs=-1)\n",
        "gridSearch.fit(X_train, y_train)\n",
        "print('Best Score: ', gridSearch.best_score_)\n",
        "print('Best Parameters: ', gridSearch.best_params_)\n",
        "\n",
        "# Summary: Best Estimator\n",
        "\n",
        "print(\"\\n'Best Estimator: '\")\n",
        "initialClassTree = gridSearch.best_estimator_\n",
        "print(\"\\n'Training Data'\\n -------------------------\")\n",
        "classificationSummary(y_train, initialClassTree.predict(X_train))\n",
        "print(\"\\n'Testing Data'\\n -------------------------\")\n",
        "classificationSummary(y_test, initialClassTree.predict(X_test))"
      ],
      "execution_count": null,
      "outputs": [
        {
          "output_type": "stream",
          "name": "stdout",
          "text": [
            "Best Score:  0.8396551724137931\n",
            "Best Parameters:  {'max_depth': 5, 'min_impurity_decrease': 0, 'min_samples_leaf': 50, 'min_samples_split': 10}\n",
            "\n",
            "'Best Estimator: '\n",
            "\n",
            "'Training Data'\n",
            " -------------------------\n",
            "Confusion Matrix (Accuracy 0.8603)\n",
            "\n",
            "       Prediction\n",
            "Actual   0   1\n",
            "     0 499  56\n",
            "     1 106 499\n",
            "\n",
            "'Testing Data'\n",
            " -------------------------\n",
            "Confusion Matrix (Accuracy 0.8682)\n",
            "\n",
            "       Prediction\n",
            "Actual   0   1\n",
            "     0 323  28\n",
            "     1  74 349\n"
          ]
        }
      ]
    },
    {
      "cell_type": "code",
      "metadata": {
        "id": "meX2yfN7Ys68"
      },
      "source": [
        "#copy dot file contects to graphviz to generate the graph\n",
        "export_graphviz(initialClassTree, out_file = 'initialClassTree.dot', feature_names= X_train.columns)"
      ],
      "execution_count": null,
      "outputs": []
    },
    {
      "cell_type": "code",
      "metadata": {
        "colab": {
          "base_uri": "https://localhost:8080/"
        },
        "id": "VcCca1IpC8Mz",
        "outputId": "cdea89aa-becd-48d4-cdfe-f983369d6dd0"
      },
      "source": [
        "from sklearn.tree import export_text\n",
        "r = export_text(initialClassTree, feature_names= list(X_train.columns))\n",
        "print(r)"
      ],
      "execution_count": null,
      "outputs": [
        {
          "output_type": "stream",
          "name": "stdout",
          "text": [
            "|--- OpenPrice <= 1.77\n",
            "|   |--- ClosePrice <= 1.81\n",
            "|   |   |--- class: 0\n",
            "|   |--- ClosePrice >  1.81\n",
            "|   |   |--- class: 1\n",
            "|--- OpenPrice >  1.77\n",
            "|   |--- ClosePrice <= 10.03\n",
            "|   |   |--- OpenPrice <= 4.92\n",
            "|   |   |   |--- ClosePrice <= 4.03\n",
            "|   |   |   |   |--- OpenPrice <= 2.67\n",
            "|   |   |   |   |   |--- class: 0\n",
            "|   |   |   |   |--- OpenPrice >  2.67\n",
            "|   |   |   |   |   |--- class: 0\n",
            "|   |   |   |--- ClosePrice >  4.03\n",
            "|   |   |   |   |--- class: 1\n",
            "|   |   |--- OpenPrice >  4.92\n",
            "|   |   |   |--- ClosePrice <= 6.52\n",
            "|   |   |   |   |--- class: 0\n",
            "|   |   |   |--- ClosePrice >  6.52\n",
            "|   |   |   |   |--- OpenPrice <= 7.99\n",
            "|   |   |   |   |   |--- class: 0\n",
            "|   |   |   |   |--- OpenPrice >  7.99\n",
            "|   |   |   |   |   |--- class: 0\n",
            "|   |--- ClosePrice >  10.03\n",
            "|   |   |--- OpenPrice <= 10.97\n",
            "|   |   |   |--- Currency__EUR <= 0.50\n",
            "|   |   |   |   |--- class: 1\n",
            "|   |   |   |--- Currency__EUR >  0.50\n",
            "|   |   |   |   |--- class: 1\n",
            "|   |   |--- OpenPrice >  10.97\n",
            "|   |   |   |--- sellerRating <= 535.00\n",
            "|   |   |   |   |--- class: 1\n",
            "|   |   |   |--- sellerRating >  535.00\n",
            "|   |   |   |   |--- ClosePrice <= 24.99\n",
            "|   |   |   |   |   |--- class: 0\n",
            "|   |   |   |   |--- ClosePrice >  24.99\n",
            "|   |   |   |   |   |--- class: 0\n",
            "\n"
          ]
        }
      ]
    },
    {
      "cell_type": "markdown",
      "metadata": {
        "id": "wOmAJEijYs68"
      },
      "source": [
        "Tuned Tree"
      ]
    },
    {
      "cell_type": "code",
      "metadata": {
        "colab": {
          "base_uri": "https://localhost:8080/"
        },
        "id": "axMovtKZYs68",
        "outputId": "feaafb97-aa65-475c-a859-45a590016eea"
      },
      "source": [
        "param_grid = {\n",
        "    'min_samples_leaf': [50],\n",
        "    'max_depth' : list(range(2,16)),\n",
        "    'min_samples_split' :list(range(10,120)),\n",
        "    'min_impurity_decrease' : [0,0.0009, 0.001, 0.0011]\n",
        "}\n",
        "\n",
        "# Cross Validation DT\n",
        "gridSearch = GridSearchCV(DecisionTreeClassifier(criterion='gini', random_state=1), param_grid, cv=7, n_jobs=-1)\n",
        "gridSearch.fit(X_train, y_train)\n",
        "print('Best Score: ', gridSearch.best_score_)\n",
        "print('Best Parameters: ', gridSearch.best_params_)\n",
        "\n",
        "# Summary: Best Estimator\n",
        "\n",
        "print(\"\\n'Best Estimator: '\")\n",
        "initialClassTree_tuned = gridSearch.best_estimator_\n",
        "print(\"\\n'Training Data'\\n -------------------------\")\n",
        "classificationSummary(y_train, initialClassTree_tuned.predict(X_train))\n",
        "print(\"\\n'Testing Data'\\n -------------------------\")\n",
        "classificationSummary(y_test, initialClassTree_tuned.predict(X_test))\n",
        "\n"
      ],
      "execution_count": null,
      "outputs": [
        {
          "output_type": "stream",
          "name": "stdout",
          "text": [
            "Best Score:  0.8499921764982006\n",
            "Best Parameters:  {'max_depth': 5, 'min_impurity_decrease': 0, 'min_samples_leaf': 50, 'min_samples_split': 10}\n",
            "\n",
            "'Best Estimator: '\n",
            "\n",
            "'Training Data'\n",
            " -------------------------\n",
            "Confusion Matrix (Accuracy 0.8603)\n",
            "\n",
            "       Prediction\n",
            "Actual   0   1\n",
            "     0 499  56\n",
            "     1 106 499\n",
            "\n",
            "'Testing Data'\n",
            " -------------------------\n",
            "Confusion Matrix (Accuracy 0.8682)\n",
            "\n",
            "       Prediction\n",
            "Actual   0   1\n",
            "     0 323  28\n",
            "     1  74 349\n"
          ]
        }
      ]
    },
    {
      "cell_type": "code",
      "metadata": {
        "id": "xaGPioYwYs69"
      },
      "source": [
        "#copy dot file contects to graphviz to generate the graph\n",
        "export_graphviz(initialClassTree_tuned, out_file = 'initialClassTree_tuned.dot', feature_names= X_train.columns)"
      ],
      "execution_count": null,
      "outputs": []
    },
    {
      "cell_type": "markdown",
      "metadata": {
        "id": "MQWGRCIQYs69"
      },
      "source": [
        "Weighted Tree"
      ]
    },
    {
      "cell_type": "code",
      "metadata": {
        "id": "W4qolp-rYs69"
      },
      "source": [
        "#lets set the weights in such a  way that the small class has a weight so the that its balanced a minority class =1.5,\n",
        "# larger class =.5\n",
        "\n",
        "sample_weight =compute_sample_weight (class_weight ='balanced',y=y_train)"
      ],
      "execution_count": null,
      "outputs": []
    },
    {
      "cell_type": "code",
      "metadata": {
        "id": "vIDDAwEHYs69"
      },
      "source": [
        "#be careful about where the class weight go in"
      ],
      "execution_count": null,
      "outputs": []
    },
    {
      "cell_type": "code",
      "metadata": {
        "id": "X8j3ahHmYs69",
        "colab": {
          "base_uri": "https://localhost:8080/"
        },
        "outputId": "74a97ddc-1081-4a93-c526-6e8223535ae5"
      },
      "source": [
        "param_grid = {\n",
        "    'min_samples_leaf': [50],\n",
        "    'max_depth' : list(range(2,16)),\n",
        "    'min_samples_split' :list(range(10,120)),\n",
        "    'min_impurity_decrease' : [0,0.0009, 0.001, 0.0011]\n",
        "}\n",
        "\n",
        "#be careful about where the class weight go in\n",
        "\n",
        "gridSearch = GridSearchCV(DecisionTreeClassifier(random_state =1), param_grid, cv=5, n_jobs =-1)\n",
        "gridSearch.fit(X_train,y_train, sample_weight)\n",
        "print('Re-weighted Score: ', gridSearch.best_score_)\n",
        "print('Re-weighted Parameters: ', gridSearch.best_params_)\n",
        "\n",
        "print(\"\\n'Best Estimator: '\")\n",
        "bestClassTree = gridSearch.best_estimator_\n",
        "print(\"\\n'Training Data'\\n -------------------------\")\n",
        "classificationSummary(y_train, bestClassTree.predict(X_train))\n",
        "print(\"\\n'Testing Data'\\n -------------------------\")\n",
        "classificationSummary(y_test, bestClassTree.predict(X_test))"
      ],
      "execution_count": null,
      "outputs": [
        {
          "output_type": "stream",
          "name": "stdout",
          "text": [
            "Re-weighted Score:  0.8396551724137931\n",
            "Re-weighted Parameters:  {'max_depth': 5, 'min_impurity_decrease': 0, 'min_samples_leaf': 50, 'min_samples_split': 10}\n",
            "\n",
            "'Best Estimator: '\n",
            "\n",
            "'Training Data'\n",
            " -------------------------\n",
            "Confusion Matrix (Accuracy 0.8603)\n",
            "\n",
            "       Prediction\n",
            "Actual   0   1\n",
            "     0 499  56\n",
            "     1 106 499\n",
            "\n",
            "'Testing Data'\n",
            " -------------------------\n",
            "Confusion Matrix (Accuracy 0.8682)\n",
            "\n",
            "       Prediction\n",
            "Actual   0   1\n",
            "     0 323  28\n",
            "     1  74 349\n"
          ]
        }
      ]
    },
    {
      "cell_type": "markdown",
      "metadata": {
        "id": "q4hIsc81Ys6-"
      },
      "source": [
        "### Tree with reduced no of variables"
      ]
    },
    {
      "cell_type": "markdown",
      "metadata": {
        "id": "rZtb6ksX6fEM"
      },
      "source": [
        "Tree with 'ClosePrice' removed"
      ]
    },
    {
      "cell_type": "code",
      "metadata": {
        "id": "sk1P85ItYs6-",
        "scrolled": true,
        "colab": {
          "base_uri": "https://localhost:8080/"
        },
        "outputId": "5cf83416-1ebf-499c-bd05-0ceaecb9737a"
      },
      "source": [
        "reduc_df = df1.copy()\n",
        "reduc_df  = reduc_df .drop(columns = ['ClosePrice'])\n",
        "column_list = ['Category', 'Currency', 'endDay','Duration']\n",
        "reduc_df \n",
        "\n",
        "\n",
        "for col in column_list:\n",
        "    reduc_df  = pd.concat([reduc_df.drop(col, axis=1), pd.get_dummies(reduc_df[col], prefix = '_')], axis=1)\n",
        "reduc_df \n",
        "\n",
        "#Split the data into training and validation datasets using a 60%:40% ratio\n",
        "#Data does not have close price\n",
        "\n",
        "X = reduc_df.drop(columns = ['Competitive?',])\n",
        "y = reduc_df['Competitive?']\n",
        "X_train, X_test, y_train, y_test = train_test_split(X, y, test_size = 0.4, random_state=1)\n",
        "\n",
        "\n",
        "\n",
        "param_grid = {\n",
        "    'min_samples_leaf': [50],\n",
        "    'max_depth' : list(range(2,16)),\n",
        "    'min_samples_split' :list(range(10,120)),\n",
        "    'min_impurity_decrease' : [0,0.0009, 0.001, 0.0011]\n",
        "}\n",
        "\n",
        "\n",
        "\n",
        "# Cross Validation DT\n",
        "gridSearch = GridSearchCV(DecisionTreeClassifier(criterion='gini', random_state=1), param_grid, cv=5, n_jobs=-1)\n",
        "gridSearch.fit(X_train, y_train)\n",
        "print('Best Score: ', gridSearch.best_score_)\n",
        "print('Best Parameters: ', gridSearch.best_params_)\n",
        "\n",
        "# Summary: Best Estimator\n",
        "\n",
        "print(\"\\n'Best Estimator: '\")\n",
        "bestClassTree = gridSearch.best_estimator_\n",
        "print(\"\\n'Training Data'\\n -------------------------\")\n",
        "classificationSummary(y_train, bestClassTree.predict(X_train))\n",
        "print(\"\\n'Testing Data'\\n -------------------------\")\n",
        "classificationSummary(y_test, bestClassTree.predict(X_test))"
      ],
      "execution_count": null,
      "outputs": [
        {
          "output_type": "stream",
          "name": "stdout",
          "text": [
            "Best Score:  0.7033183150969033\n",
            "Best Parameters:  {'max_depth': 3, 'min_impurity_decrease': 0, 'min_samples_leaf': 50, 'min_samples_split': 115}\n",
            "\n",
            "'Best Estimator: '\n",
            "\n",
            "'Training Data'\n",
            " -------------------------\n",
            "Confusion Matrix (Accuracy 0.7219)\n",
            "\n",
            "       Prediction\n",
            "Actual   0   1\n",
            "     0 402 151\n",
            "     1 178 452\n",
            "\n",
            "'Testing Data'\n",
            " -------------------------\n",
            "Confusion Matrix (Accuracy 0.7250)\n",
            "\n",
            "       Prediction\n",
            "Actual   0   1\n",
            "     0 261  92\n",
            "     1 125 311\n"
          ]
        }
      ]
    },
    {
      "cell_type": "markdown",
      "metadata": {
        "id": "TnQ3YF1zYs6_"
      },
      "source": [
        "Weighted Tree - Reduced Tree Model ('ClosePrice')"
      ]
    },
    {
      "cell_type": "code",
      "metadata": {
        "id": "JlZ1VtzCYs6_",
        "colab": {
          "base_uri": "https://localhost:8080/"
        },
        "outputId": "c6c27207-977b-413d-ab86-43f740e400d1"
      },
      "source": [
        "\n",
        "sample_weight =compute_sample_weight (class_weight ='balanced',y=y_train)\n",
        "\n",
        "param_grid = {\n",
        "    'min_samples_leaf': [50],\n",
        "    'max_depth' : list(range(2,16)),\n",
        "    'min_samples_split' :list(range(10,120)),\n",
        "    'min_impurity_decrease' : [0,0.0009, 0.001, 0.0011]\n",
        "}\n",
        "\n",
        "#be careful about where the class weight go in\n",
        "\n",
        "gridSearch = GridSearchCV(DecisionTreeClassifier(random_state =1), param_grid, cv=5, n_jobs =-1)\n",
        "gridSearch.fit(X_train,y_train, sample_weight)\n",
        "print('Re-weighted Score: ', gridSearch.best_score_)\n",
        "print('Re-weighted Parameters: ', gridSearch.best_params_)\n",
        "\n",
        "print(\"\\n'Best Estimator: '\")\n",
        "bestClassTree = gridSearch.best_estimator_\n",
        "print(\"\\n'Training Data'\\n -------------------------\")\n",
        "classificationSummary(y_train, bestClassTree.predict(X_train))\n",
        "print(\"\\n'Testing Data'\\n -------------------------\")\n",
        "classificationSummary(y_test, bestClassTree.predict(X_test))"
      ],
      "execution_count": null,
      "outputs": [
        {
          "output_type": "stream",
          "name": "stdout",
          "text": [
            "Re-weighted Score:  0.7033183150969033\n",
            "Re-weighted Parameters:  {'max_depth': 3, 'min_impurity_decrease': 0, 'min_samples_leaf': 50, 'min_samples_split': 115}\n",
            "\n",
            "'Best Estimator: '\n",
            "\n",
            "'Training Data'\n",
            " -------------------------\n",
            "Confusion Matrix (Accuracy 0.7219)\n",
            "\n",
            "       Prediction\n",
            "Actual   0   1\n",
            "     0 402 151\n",
            "     1 178 452\n",
            "\n",
            "'Testing Data'\n",
            " -------------------------\n",
            "Confusion Matrix (Accuracy 0.7250)\n",
            "\n",
            "       Prediction\n",
            "Actual   0   1\n",
            "     0 261  92\n",
            "     1 125 311\n"
          ]
        }
      ]
    },
    {
      "cell_type": "markdown",
      "metadata": {
        "id": "4CvZkA046s7A"
      },
      "source": [
        "Tree with 'ClosePrice' and 'Currency' Removed"
      ]
    },
    {
      "cell_type": "code",
      "metadata": {
        "colab": {
          "base_uri": "https://localhost:8080/",
          "height": 439
        },
        "id": "uyOCDEtPavdl",
        "outputId": "7577333b-44f1-40ee-e80a-d1b57b3a0846"
      },
      "source": [
        "reduc_df2 = df1.copy()\n",
        "reduc_df2  = reduc_df2 .drop(columns =  ['ClosePrice','Currency'])\n",
        "column_list = ['Category', 'endDay','Duration']\n",
        "\n",
        "for col in column_list:\n",
        "  reduc_df2  = pd.concat([reduc_df2.drop(col, axis=1), pd.get_dummies(reduc_df2[col], prefix = '_')], axis=1)\n",
        "reduc_df2"
      ],
      "execution_count": null,
      "outputs": [
        {
          "output_type": "execute_result",
          "data": {
            "text/html": [
              "<div>\n",
              "<style scoped>\n",
              "    .dataframe tbody tr th:only-of-type {\n",
              "        vertical-align: middle;\n",
              "    }\n",
              "\n",
              "    .dataframe tbody tr th {\n",
              "        vertical-align: top;\n",
              "    }\n",
              "\n",
              "    .dataframe thead th {\n",
              "        text-align: right;\n",
              "    }\n",
              "</style>\n",
              "<table border=\"1\" class=\"dataframe\">\n",
              "  <thead>\n",
              "    <tr style=\"text-align: right;\">\n",
              "      <th></th>\n",
              "      <th>sellerRating</th>\n",
              "      <th>OpenPrice</th>\n",
              "      <th>Competitive?</th>\n",
              "      <th>__Antique/Art/Craft</th>\n",
              "      <th>__Automotive</th>\n",
              "      <th>__Books</th>\n",
              "      <th>__Business/Industrial</th>\n",
              "      <th>__Clothing/Accessories</th>\n",
              "      <th>__Coins/Stamps</th>\n",
              "      <th>__Collectibles</th>\n",
              "      <th>__Computer</th>\n",
              "      <th>__Electronics</th>\n",
              "      <th>__EverythingElse</th>\n",
              "      <th>__Health/Beauty</th>\n",
              "      <th>__Home/Garden</th>\n",
              "      <th>__Jewelry</th>\n",
              "      <th>__Music/Movie/Game</th>\n",
              "      <th>__Photography</th>\n",
              "      <th>__Pottery/Glass</th>\n",
              "      <th>__SportingGoods</th>\n",
              "      <th>__Toys/Hobbies</th>\n",
              "      <th>__Fri</th>\n",
              "      <th>__Mon</th>\n",
              "      <th>__Sat</th>\n",
              "      <th>__Sun</th>\n",
              "      <th>__Thu</th>\n",
              "      <th>__Tue</th>\n",
              "      <th>__Wed</th>\n",
              "      <th>__1</th>\n",
              "      <th>__3</th>\n",
              "      <th>__5</th>\n",
              "      <th>__7</th>\n",
              "      <th>__10</th>\n",
              "    </tr>\n",
              "  </thead>\n",
              "  <tbody>\n",
              "    <tr>\n",
              "      <th>0</th>\n",
              "      <td>3249</td>\n",
              "      <td>0.01</td>\n",
              "      <td>0</td>\n",
              "      <td>0</td>\n",
              "      <td>0</td>\n",
              "      <td>0</td>\n",
              "      <td>0</td>\n",
              "      <td>0</td>\n",
              "      <td>0</td>\n",
              "      <td>0</td>\n",
              "      <td>0</td>\n",
              "      <td>0</td>\n",
              "      <td>0</td>\n",
              "      <td>0</td>\n",
              "      <td>0</td>\n",
              "      <td>0</td>\n",
              "      <td>1</td>\n",
              "      <td>0</td>\n",
              "      <td>0</td>\n",
              "      <td>0</td>\n",
              "      <td>0</td>\n",
              "      <td>0</td>\n",
              "      <td>1</td>\n",
              "      <td>0</td>\n",
              "      <td>0</td>\n",
              "      <td>0</td>\n",
              "      <td>0</td>\n",
              "      <td>0</td>\n",
              "      <td>0</td>\n",
              "      <td>0</td>\n",
              "      <td>1</td>\n",
              "      <td>0</td>\n",
              "      <td>0</td>\n",
              "    </tr>\n",
              "    <tr>\n",
              "      <th>1</th>\n",
              "      <td>3249</td>\n",
              "      <td>0.01</td>\n",
              "      <td>0</td>\n",
              "      <td>0</td>\n",
              "      <td>0</td>\n",
              "      <td>0</td>\n",
              "      <td>0</td>\n",
              "      <td>0</td>\n",
              "      <td>0</td>\n",
              "      <td>0</td>\n",
              "      <td>0</td>\n",
              "      <td>0</td>\n",
              "      <td>0</td>\n",
              "      <td>0</td>\n",
              "      <td>0</td>\n",
              "      <td>0</td>\n",
              "      <td>1</td>\n",
              "      <td>0</td>\n",
              "      <td>0</td>\n",
              "      <td>0</td>\n",
              "      <td>0</td>\n",
              "      <td>0</td>\n",
              "      <td>1</td>\n",
              "      <td>0</td>\n",
              "      <td>0</td>\n",
              "      <td>0</td>\n",
              "      <td>0</td>\n",
              "      <td>0</td>\n",
              "      <td>0</td>\n",
              "      <td>0</td>\n",
              "      <td>1</td>\n",
              "      <td>0</td>\n",
              "      <td>0</td>\n",
              "    </tr>\n",
              "    <tr>\n",
              "      <th>2</th>\n",
              "      <td>3249</td>\n",
              "      <td>0.01</td>\n",
              "      <td>0</td>\n",
              "      <td>0</td>\n",
              "      <td>0</td>\n",
              "      <td>0</td>\n",
              "      <td>0</td>\n",
              "      <td>0</td>\n",
              "      <td>0</td>\n",
              "      <td>0</td>\n",
              "      <td>0</td>\n",
              "      <td>0</td>\n",
              "      <td>0</td>\n",
              "      <td>0</td>\n",
              "      <td>0</td>\n",
              "      <td>0</td>\n",
              "      <td>1</td>\n",
              "      <td>0</td>\n",
              "      <td>0</td>\n",
              "      <td>0</td>\n",
              "      <td>0</td>\n",
              "      <td>0</td>\n",
              "      <td>1</td>\n",
              "      <td>0</td>\n",
              "      <td>0</td>\n",
              "      <td>0</td>\n",
              "      <td>0</td>\n",
              "      <td>0</td>\n",
              "      <td>0</td>\n",
              "      <td>0</td>\n",
              "      <td>1</td>\n",
              "      <td>0</td>\n",
              "      <td>0</td>\n",
              "    </tr>\n",
              "    <tr>\n",
              "      <th>3</th>\n",
              "      <td>3249</td>\n",
              "      <td>0.01</td>\n",
              "      <td>0</td>\n",
              "      <td>0</td>\n",
              "      <td>0</td>\n",
              "      <td>0</td>\n",
              "      <td>0</td>\n",
              "      <td>0</td>\n",
              "      <td>0</td>\n",
              "      <td>0</td>\n",
              "      <td>0</td>\n",
              "      <td>0</td>\n",
              "      <td>0</td>\n",
              "      <td>0</td>\n",
              "      <td>0</td>\n",
              "      <td>0</td>\n",
              "      <td>1</td>\n",
              "      <td>0</td>\n",
              "      <td>0</td>\n",
              "      <td>0</td>\n",
              "      <td>0</td>\n",
              "      <td>0</td>\n",
              "      <td>1</td>\n",
              "      <td>0</td>\n",
              "      <td>0</td>\n",
              "      <td>0</td>\n",
              "      <td>0</td>\n",
              "      <td>0</td>\n",
              "      <td>0</td>\n",
              "      <td>0</td>\n",
              "      <td>1</td>\n",
              "      <td>0</td>\n",
              "      <td>0</td>\n",
              "    </tr>\n",
              "    <tr>\n",
              "      <th>4</th>\n",
              "      <td>3249</td>\n",
              "      <td>0.01</td>\n",
              "      <td>0</td>\n",
              "      <td>0</td>\n",
              "      <td>0</td>\n",
              "      <td>0</td>\n",
              "      <td>0</td>\n",
              "      <td>0</td>\n",
              "      <td>0</td>\n",
              "      <td>0</td>\n",
              "      <td>0</td>\n",
              "      <td>0</td>\n",
              "      <td>0</td>\n",
              "      <td>0</td>\n",
              "      <td>0</td>\n",
              "      <td>0</td>\n",
              "      <td>1</td>\n",
              "      <td>0</td>\n",
              "      <td>0</td>\n",
              "      <td>0</td>\n",
              "      <td>0</td>\n",
              "      <td>0</td>\n",
              "      <td>1</td>\n",
              "      <td>0</td>\n",
              "      <td>0</td>\n",
              "      <td>0</td>\n",
              "      <td>0</td>\n",
              "      <td>0</td>\n",
              "      <td>0</td>\n",
              "      <td>0</td>\n",
              "      <td>1</td>\n",
              "      <td>0</td>\n",
              "      <td>0</td>\n",
              "    </tr>\n",
              "    <tr>\n",
              "      <th>...</th>\n",
              "      <td>...</td>\n",
              "      <td>...</td>\n",
              "      <td>...</td>\n",
              "      <td>...</td>\n",
              "      <td>...</td>\n",
              "      <td>...</td>\n",
              "      <td>...</td>\n",
              "      <td>...</td>\n",
              "      <td>...</td>\n",
              "      <td>...</td>\n",
              "      <td>...</td>\n",
              "      <td>...</td>\n",
              "      <td>...</td>\n",
              "      <td>...</td>\n",
              "      <td>...</td>\n",
              "      <td>...</td>\n",
              "      <td>...</td>\n",
              "      <td>...</td>\n",
              "      <td>...</td>\n",
              "      <td>...</td>\n",
              "      <td>...</td>\n",
              "      <td>...</td>\n",
              "      <td>...</td>\n",
              "      <td>...</td>\n",
              "      <td>...</td>\n",
              "      <td>...</td>\n",
              "      <td>...</td>\n",
              "      <td>...</td>\n",
              "      <td>...</td>\n",
              "      <td>...</td>\n",
              "      <td>...</td>\n",
              "      <td>...</td>\n",
              "      <td>...</td>\n",
              "    </tr>\n",
              "    <tr>\n",
              "      <th>1967</th>\n",
              "      <td>2992</td>\n",
              "      <td>359.95</td>\n",
              "      <td>0</td>\n",
              "      <td>0</td>\n",
              "      <td>1</td>\n",
              "      <td>0</td>\n",
              "      <td>0</td>\n",
              "      <td>0</td>\n",
              "      <td>0</td>\n",
              "      <td>0</td>\n",
              "      <td>0</td>\n",
              "      <td>0</td>\n",
              "      <td>0</td>\n",
              "      <td>0</td>\n",
              "      <td>0</td>\n",
              "      <td>0</td>\n",
              "      <td>0</td>\n",
              "      <td>0</td>\n",
              "      <td>0</td>\n",
              "      <td>0</td>\n",
              "      <td>0</td>\n",
              "      <td>0</td>\n",
              "      <td>0</td>\n",
              "      <td>0</td>\n",
              "      <td>1</td>\n",
              "      <td>0</td>\n",
              "      <td>0</td>\n",
              "      <td>0</td>\n",
              "      <td>0</td>\n",
              "      <td>0</td>\n",
              "      <td>1</td>\n",
              "      <td>0</td>\n",
              "      <td>0</td>\n",
              "    </tr>\n",
              "    <tr>\n",
              "      <th>1968</th>\n",
              "      <td>21</td>\n",
              "      <td>300.00</td>\n",
              "      <td>1</td>\n",
              "      <td>0</td>\n",
              "      <td>1</td>\n",
              "      <td>0</td>\n",
              "      <td>0</td>\n",
              "      <td>0</td>\n",
              "      <td>0</td>\n",
              "      <td>0</td>\n",
              "      <td>0</td>\n",
              "      <td>0</td>\n",
              "      <td>0</td>\n",
              "      <td>0</td>\n",
              "      <td>0</td>\n",
              "      <td>0</td>\n",
              "      <td>0</td>\n",
              "      <td>0</td>\n",
              "      <td>0</td>\n",
              "      <td>0</td>\n",
              "      <td>0</td>\n",
              "      <td>0</td>\n",
              "      <td>0</td>\n",
              "      <td>1</td>\n",
              "      <td>0</td>\n",
              "      <td>0</td>\n",
              "      <td>0</td>\n",
              "      <td>0</td>\n",
              "      <td>0</td>\n",
              "      <td>0</td>\n",
              "      <td>1</td>\n",
              "      <td>0</td>\n",
              "      <td>0</td>\n",
              "    </tr>\n",
              "    <tr>\n",
              "      <th>1969</th>\n",
              "      <td>1400</td>\n",
              "      <td>549.00</td>\n",
              "      <td>0</td>\n",
              "      <td>0</td>\n",
              "      <td>1</td>\n",
              "      <td>0</td>\n",
              "      <td>0</td>\n",
              "      <td>0</td>\n",
              "      <td>0</td>\n",
              "      <td>0</td>\n",
              "      <td>0</td>\n",
              "      <td>0</td>\n",
              "      <td>0</td>\n",
              "      <td>0</td>\n",
              "      <td>0</td>\n",
              "      <td>0</td>\n",
              "      <td>0</td>\n",
              "      <td>0</td>\n",
              "      <td>0</td>\n",
              "      <td>0</td>\n",
              "      <td>0</td>\n",
              "      <td>0</td>\n",
              "      <td>1</td>\n",
              "      <td>0</td>\n",
              "      <td>0</td>\n",
              "      <td>0</td>\n",
              "      <td>0</td>\n",
              "      <td>0</td>\n",
              "      <td>0</td>\n",
              "      <td>0</td>\n",
              "      <td>1</td>\n",
              "      <td>0</td>\n",
              "      <td>0</td>\n",
              "    </tr>\n",
              "    <tr>\n",
              "      <th>1970</th>\n",
              "      <td>57</td>\n",
              "      <td>650.00</td>\n",
              "      <td>1</td>\n",
              "      <td>0</td>\n",
              "      <td>1</td>\n",
              "      <td>0</td>\n",
              "      <td>0</td>\n",
              "      <td>0</td>\n",
              "      <td>0</td>\n",
              "      <td>0</td>\n",
              "      <td>0</td>\n",
              "      <td>0</td>\n",
              "      <td>0</td>\n",
              "      <td>0</td>\n",
              "      <td>0</td>\n",
              "      <td>0</td>\n",
              "      <td>0</td>\n",
              "      <td>0</td>\n",
              "      <td>0</td>\n",
              "      <td>0</td>\n",
              "      <td>0</td>\n",
              "      <td>1</td>\n",
              "      <td>0</td>\n",
              "      <td>0</td>\n",
              "      <td>0</td>\n",
              "      <td>0</td>\n",
              "      <td>0</td>\n",
              "      <td>0</td>\n",
              "      <td>0</td>\n",
              "      <td>0</td>\n",
              "      <td>0</td>\n",
              "      <td>1</td>\n",
              "      <td>0</td>\n",
              "    </tr>\n",
              "    <tr>\n",
              "      <th>1971</th>\n",
              "      <td>145</td>\n",
              "      <td>999.00</td>\n",
              "      <td>0</td>\n",
              "      <td>0</td>\n",
              "      <td>1</td>\n",
              "      <td>0</td>\n",
              "      <td>0</td>\n",
              "      <td>0</td>\n",
              "      <td>0</td>\n",
              "      <td>0</td>\n",
              "      <td>0</td>\n",
              "      <td>0</td>\n",
              "      <td>0</td>\n",
              "      <td>0</td>\n",
              "      <td>0</td>\n",
              "      <td>0</td>\n",
              "      <td>0</td>\n",
              "      <td>0</td>\n",
              "      <td>0</td>\n",
              "      <td>0</td>\n",
              "      <td>0</td>\n",
              "      <td>0</td>\n",
              "      <td>0</td>\n",
              "      <td>1</td>\n",
              "      <td>0</td>\n",
              "      <td>0</td>\n",
              "      <td>0</td>\n",
              "      <td>0</td>\n",
              "      <td>0</td>\n",
              "      <td>0</td>\n",
              "      <td>0</td>\n",
              "      <td>1</td>\n",
              "      <td>0</td>\n",
              "    </tr>\n",
              "  </tbody>\n",
              "</table>\n",
              "<p>1972 rows × 33 columns</p>\n",
              "</div>"
            ],
            "text/plain": [
              "      sellerRating  OpenPrice  Competitive?  ...  __5  __7  __10\n",
              "0             3249       0.01             0  ...    1    0     0\n",
              "1             3249       0.01             0  ...    1    0     0\n",
              "2             3249       0.01             0  ...    1    0     0\n",
              "3             3249       0.01             0  ...    1    0     0\n",
              "4             3249       0.01             0  ...    1    0     0\n",
              "...            ...        ...           ...  ...  ...  ...   ...\n",
              "1967          2992     359.95             0  ...    1    0     0\n",
              "1968            21     300.00             1  ...    1    0     0\n",
              "1969          1400     549.00             0  ...    1    0     0\n",
              "1970            57     650.00             1  ...    0    1     0\n",
              "1971           145     999.00             0  ...    0    1     0\n",
              "\n",
              "[1972 rows x 33 columns]"
            ]
          },
          "metadata": {},
          "execution_count": 81
        }
      ]
    },
    {
      "cell_type": "code",
      "metadata": {
        "id": "ujnvYcFEXLkh"
      },
      "source": [
        "#Split the data into training and validation datasets using a 60%:40% ratio\n",
        "#Data does not have close price\n",
        "y = reduc_df2['Competitive?']\n",
        "X = reduc_df2.drop(columns = ['Competitive?',])\n",
        "X_train, X_test, y_train, y_test = train_test_split(X, y, test_size = 0.4, random_state=1)\n",
        "\n",
        "\n",
        "param_grid = {\n",
        "    'min_samples_leaf': [50],\n",
        "    'max_depth' : list(range(2,16)),\n",
        "    'min_samples_split' :list(range(10,120)),\n",
        "    'min_impurity_decrease' : [0,0.0009, 0.001, 0.0011]\n",
        "}\n",
        "\n",
        "#Split the data into training and validation datasets using a 60%:40% ratio\n",
        "#Data does not have close price\n",
        "\n"
      ],
      "execution_count": null,
      "outputs": []
    },
    {
      "cell_type": "code",
      "metadata": {
        "id": "ZgUUs_CuYs7C",
        "colab": {
          "base_uri": "https://localhost:8080/"
        },
        "outputId": "2869621c-bed4-4b60-9988-abb4a348ba32"
      },
      "source": [
        "# Cross Validation DT\n",
        "\n",
        "sample_weight =compute_sample_weight (class_weight ='balanced',y=y_train)\n",
        "\n",
        "\n",
        "gridSearch = GridSearchCV(DecisionTreeClassifier(criterion='gini', random_state=1), param_grid, cv=5, n_jobs=-1)\n",
        "gridSearch.fit(X_train,y_train, sample_weight)\n",
        "print('Best Score: ', gridSearch.best_score_)\n",
        "print('Best Parameters: ', gridSearch.best_params_)\n",
        "\n",
        "# Summary: Best Estimator\n",
        "\n",
        "print(\"\\n'Best Estimator: '\")\n",
        "final_reduced_ClassTree = gridSearch.best_estimator_\n",
        "print(\"\\n'Training Data'\\n -------------------------\")\n",
        "classificationSummary(y_train, final_reduced_ClassTree.predict(X_train))\n",
        "print(\"\\n'Testing Data'\\n -------------------------\")\n",
        "classificationSummary(y_test, final_reduced_ClassTree.predict(X_test))"
      ],
      "execution_count": null,
      "outputs": [
        {
          "output_type": "stream",
          "name": "stdout",
          "text": [
            "Best Score:  0.7050060788099836\n",
            "Best Parameters:  {'max_depth': 3, 'min_impurity_decrease': 0, 'min_samples_leaf': 50, 'min_samples_split': 115}\n",
            "\n",
            "'Best Estimator: '\n",
            "\n",
            "'Training Data'\n",
            " -------------------------\n",
            "Confusion Matrix (Accuracy 0.7219)\n",
            "\n",
            "       Prediction\n",
            "Actual   0   1\n",
            "     0 402 151\n",
            "     1 178 452\n",
            "\n",
            "'Testing Data'\n",
            " -------------------------\n",
            "Confusion Matrix (Accuracy 0.7250)\n",
            "\n",
            "       Prediction\n",
            "Actual   0   1\n",
            "     0 261  92\n",
            "     1 125 311\n"
          ]
        }
      ]
    },
    {
      "cell_type": "code",
      "metadata": {
        "colab": {
          "base_uri": "https://localhost:8080/"
        },
        "id": "kaZqd2e-Wl62",
        "outputId": "bb13f6fb-e084-4fcc-d9b2-d096185f93c0"
      },
      "source": [
        "#copy dot file contects to graphviz to generate the graph\n",
        "export_graphviz(final_reduced_ClassTree, out_file = 'final_reduced_ClassTree.dot', feature_names= X_train.columns)\n",
        "r = export_text(final_reduced_ClassTree, feature_names= list(X_train.columns))\n",
        "print(r)"
      ],
      "execution_count": null,
      "outputs": [
        {
          "output_type": "stream",
          "name": "stdout",
          "text": [
            "|--- OpenPrice <= 3.62\n",
            "|   |--- OpenPrice <= 1.04\n",
            "|   |   |--- sellerRating <= 3138.50\n",
            "|   |   |   |--- class: 1\n",
            "|   |   |--- sellerRating >  3138.50\n",
            "|   |   |   |--- class: 1\n",
            "|   |--- OpenPrice >  1.04\n",
            "|   |   |--- sellerRating <= 2365.50\n",
            "|   |   |   |--- class: 1\n",
            "|   |   |--- sellerRating >  2365.50\n",
            "|   |   |   |--- class: 0\n",
            "|--- OpenPrice >  3.62\n",
            "|   |--- sellerRating <= 601.50\n",
            "|   |   |--- sellerRating <= 128.00\n",
            "|   |   |   |--- class: 1\n",
            "|   |   |--- sellerRating >  128.00\n",
            "|   |   |   |--- class: 1\n",
            "|   |--- sellerRating >  601.50\n",
            "|   |   |--- __Toys/Hobbies <= 0.50\n",
            "|   |   |   |--- class: 0\n",
            "|   |   |--- __Toys/Hobbies >  0.50\n",
            "|   |   |   |--- class: 0\n",
            "\n"
          ]
        }
      ]
    },
    {
      "cell_type": "code",
      "metadata": {
        "id": "MZxxMO7NYs7C",
        "colab": {
          "base_uri": "https://localhost:8080/",
          "height": 279
        },
        "outputId": "5d3285c6-d90d-4c68-d8eb-267711b0189c"
      },
      "source": [
        "%matplotlib inline\n",
        "\n",
        "# the only two quantitative predictors are seller rating and open price\n",
        "plt.scatter(df['sellerRating'],df['OpenPrice'], \n",
        "            c = df['Competitive'], cmap = 'cool')\n",
        "plt.xlabel('sellerRating')\n",
        "plt.ylabel('OpenPrice')\n",
        "plt.show()"
      ],
      "execution_count": null,
      "outputs": [
        {
          "output_type": "display_data",
          "data": {
            "image/png": "[encoded data removed]",
            "text/plain": [
              "<Figure size 432x288 with 1 Axes>"
            ]
          },
          "metadata": {
            "needs_background": "light"
          }
        }
      ]
    },
    {
      "cell_type": "code",
      "metadata": {
        "id": "vArC-ZqyYs7C",
        "colab": {
          "base_uri": "https://localhost:8080/",
          "height": 514
        },
        "outputId": "5df5d6c9-9249-4f01-c38d-5d3f092c436d"
      },
      "source": [
        "plt.figure(figsize=(15,8))\n",
        "ax = sns.scatterplot(data=df, x= df['sellerRating'], y= df['OpenPrice'], hue= df['Competitive'])\n",
        "ax.plot()"
      ],
      "execution_count": null,
      "outputs": [
        {
          "output_type": "execute_result",
          "data": {
            "text/plain": [
              "[]"
            ]
          },
          "metadata": {},
          "execution_count": 86
        },
        {
          "output_type": "display_data",
          "data": {
            "image/png": "[encoded data removed]",
            "text/plain": [
              "<Figure size 1080x576 with 1 Axes>"
            ]
          },
          "metadata": {
            "needs_background": "light"
          }
        }
      ]
    },
    {
      "cell_type": "code",
      "metadata": {
        "colab": {
          "base_uri": "https://localhost:8080/",
          "height": 518
        },
        "id": "dDi_ryxMrNIZ",
        "outputId": "69e5ec7b-ebab-4c21-de21-6751201bfffc"
      },
      "source": [
        "plt.figure(figsize=(15,8))\n",
        "ax = sns.scatterplot(data=df, x= df['sellerRating'], y= df['OpenPrice'], hue= df['Competitive'])\n",
        "\n",
        "plt.axhline(y=3.615)\n",
        "plt.axhline(y=1.035)\n",
        "\n",
        "plt.axvline(x=601.5)\n",
        "plt.axvline(x=128)\n",
        "plt.axvline(x=2365.5)\n",
        "plt.axvline(x=3138.5)\n",
        "\n",
        "plt.ylim(0, 100)\n",
        "plt.xlim(0, 5000)\n",
        "\n",
        "ax.plot()"
      ],
      "execution_count": null,
      "outputs": [
        {
          "output_type": "execute_result",
          "data": {
            "text/plain": [
              "[]"
            ]
          },
          "metadata": {},
          "execution_count": 87
        },
        {
          "output_type": "display_data",
          "data": {
            "image/png": "[encoded data removed]",
            "text/plain": [
              "<Figure size 1080x576 with 1 Axes>"
            ]
          },
          "metadata": {
            "needs_background": "light"
          }
        }
      ]
    },
    {
      "cell_type": "code",
      "metadata": {
        "id": "mndwLNwZYs7C",
        "colab": {
          "base_uri": "https://localhost:8080/",
          "height": 514
        },
        "outputId": "6dc551f7-9e1e-47f0-c361-f0ad832f3fd0"
      },
      "source": [
        "plt.figure(figsize=(15,8))\n",
        "ax = sns.scatterplot(data=df, x= df['sellerRating'], y= df['OpenPrice'], hue= df['OpenPrice'])\n",
        "ax.plot()"
      ],
      "execution_count": null,
      "outputs": [
        {
          "output_type": "execute_result",
          "data": {
            "text/plain": [
              "[]"
            ]
          },
          "metadata": {},
          "execution_count": 88
        },
        {
          "output_type": "display_data",
          "data": {
            "image/png": "[encoded data removed]",
            "text/plain": [
              "<Figure size 1080x576 with 1 Axes>"
            ]
          },
          "metadata": {
            "needs_background": "light"
          }
        }
      ]
    },
    {
      "cell_type": "code",
      "metadata": {
        "id": "5duMRyoRYs7D"
      },
      "source": [
        ""
      ],
      "execution_count": 89,
      "outputs": []
    },
    {
      "cell_type": "code",
      "metadata": {
        "id": "AFSwY25bYs7D"
      },
      "source": [
        ""
      ],
      "execution_count": null,
      "outputs": []
    },
    {
      "cell_type": "code",
      "metadata": {
        "id": "w_qC-SvBYs7D"
      },
      "source": [
        ""
      ],
      "execution_count": null,
      "outputs": []
    },
    {
      "cell_type": "code",
      "metadata": {
        "id": "Ta2fU2jBYs7D"
      },
      "source": [
        ""
      ],
      "execution_count": null,
      "outputs": []
    },
    {
      "cell_type": "code",
      "metadata": {
        "id": "Nh33q9gqYs7N"
      },
      "source": [
        ""
      ],
      "execution_count": null,
      "outputs": []
    },
    {
      "cell_type": "code",
      "metadata": {
        "id": "Q3Ta_PRxYs7O"
      },
      "source": [
        ""
      ],
      "execution_count": null,
      "outputs": []
    },
    {
      "cell_type": "code",
      "metadata": {
        "id": "QWiV24TJYs7O"
      },
      "source": [
        ""
      ],
      "execution_count": null,
      "outputs": []
    },
    {
      "cell_type": "code",
      "metadata": {
        "id": "hVMgRNxiYs7O"
      },
      "source": [
        ""
      ],
      "execution_count": null,
      "outputs": []
    },
    {
      "cell_type": "code",
      "metadata": {
        "id": "spewdjGvYs7O"
      },
      "source": [
        ""
      ],
      "execution_count": null,
      "outputs": []
    },
    {
      "cell_type": "code",
      "metadata": {
        "id": "hkNj9TLOYs7O"
      },
      "source": [
        ""
      ],
      "execution_count": null,
      "outputs": []
    },
    {
      "cell_type": "code",
      "metadata": {
        "id": "QtkHLl3kYs7P"
      },
      "source": [
        ""
      ],
      "execution_count": null,
      "outputs": []
    },
    {
      "cell_type": "code",
      "metadata": {
        "id": "MBYZi6afYs7P"
      },
      "source": [
        ""
      ],
      "execution_count": null,
      "outputs": []
    },
    {
      "cell_type": "code",
      "metadata": {
        "id": "R3v3FAo7Ys7P"
      },
      "source": [
        ""
      ],
      "execution_count": null,
      "outputs": []
    }
  ]
}